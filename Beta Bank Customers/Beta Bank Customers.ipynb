{
 "cells": [
  {
   "cell_type": "markdown",
   "metadata": {},
   "source": [
    "# Supervised Learning Project"
   ]
  },
  {
   "cell_type": "markdown",
   "metadata": {},
   "source": [
    "The goal of this project is to predict when Beta Banks' customers will leave based on their behavior. "
   ]
  },
  {
   "cell_type": "code",
   "execution_count": 1,
   "metadata": {
    "scrolled": true
   },
   "outputs": [],
   "source": [
    "import pandas as pd\n",
    "import numpy as np\n",
    "from sklearn.model_selection import train_test_split\n",
    "from sklearn.preprocessing import OrdinalEncoder \n",
    "from sklearn.preprocessing import StandardScaler\n",
    "from sklearn.tree import DecisionTreeClassifier\n",
    "from sklearn.ensemble import RandomForestClassifier\n",
    "from sklearn.linear_model import LogisticRegression\n",
    "from sklearn.linear_model import LinearRegression\n",
    "from sklearn.metrics import confusion_matrix\n",
    "from sklearn.metrics import classification_report\n",
    "from sklearn.metrics import recall_score\n",
    "from sklearn.metrics import precision_score\n",
    "from sklearn.metrics import f1_score\n",
    "from sklearn.metrics import roc_auc_score \n",
    "from sklearn.metrics import accuracy_score"
   ]
  },
  {
   "cell_type": "markdown",
   "metadata": {},
   "source": [
    "## General Information"
   ]
  },
  {
   "cell_type": "code",
   "execution_count": 2,
   "metadata": {},
   "outputs": [
    {
     "name": "stdout",
     "output_type": "stream",
     "text": [
      "<class 'pandas.core.frame.DataFrame'>\n",
      "RangeIndex: 10000 entries, 0 to 9999\n",
      "Data columns (total 14 columns):\n",
      "RowNumber          10000 non-null int64\n",
      "CustomerId         10000 non-null int64\n",
      "Surname            10000 non-null object\n",
      "CreditScore        10000 non-null int64\n",
      "Geography          10000 non-null object\n",
      "Gender             10000 non-null object\n",
      "Age                10000 non-null int64\n",
      "Tenure             9091 non-null float64\n",
      "Balance            10000 non-null float64\n",
      "NumOfProducts      10000 non-null int64\n",
      "HasCrCard          10000 non-null int64\n",
      "IsActiveMember     10000 non-null int64\n",
      "EstimatedSalary    10000 non-null float64\n",
      "Exited             10000 non-null int64\n",
      "dtypes: float64(3), int64(8), object(3)\n",
      "memory usage: 1.1+ MB\n",
      "\n",
      "\n",
      "======= Amount Missing =======\n",
      "RowNumber          0\n",
      "CustomerId         0\n",
      "Surname            0\n",
      "CreditScore        0\n",
      "Geography          0\n",
      "Gender             0\n",
      "Age                0\n",
      "Tenure           909\n",
      "Balance            0\n",
      "NumOfProducts      0\n",
      "dtype: int64\n",
      "\n",
      "\n",
      "======= Percent Missing =======\n",
      "Tenure    9.09\n",
      "dtype: float64\n",
      "\n",
      "\n"
     ]
    },
    {
     "data": {
      "text/html": [
       "<div>\n",
       "<style scoped>\n",
       "    .dataframe tbody tr th:only-of-type {\n",
       "        vertical-align: middle;\n",
       "    }\n",
       "\n",
       "    .dataframe tbody tr th {\n",
       "        vertical-align: top;\n",
       "    }\n",
       "\n",
       "    .dataframe thead th {\n",
       "        text-align: right;\n",
       "    }\n",
       "</style>\n",
       "<table border=\"1\" class=\"dataframe\">\n",
       "  <thead>\n",
       "    <tr style=\"text-align: right;\">\n",
       "      <th></th>\n",
       "      <th>RowNumber</th>\n",
       "      <th>CustomerId</th>\n",
       "      <th>Surname</th>\n",
       "      <th>CreditScore</th>\n",
       "      <th>Geography</th>\n",
       "      <th>Gender</th>\n",
       "      <th>Age</th>\n",
       "      <th>Tenure</th>\n",
       "      <th>Balance</th>\n",
       "      <th>NumOfProducts</th>\n",
       "      <th>HasCrCard</th>\n",
       "      <th>IsActiveMember</th>\n",
       "      <th>EstimatedSalary</th>\n",
       "      <th>Exited</th>\n",
       "    </tr>\n",
       "  </thead>\n",
       "  <tbody>\n",
       "    <tr>\n",
       "      <td>0</td>\n",
       "      <td>1</td>\n",
       "      <td>15634602</td>\n",
       "      <td>Hargrave</td>\n",
       "      <td>619</td>\n",
       "      <td>France</td>\n",
       "      <td>Female</td>\n",
       "      <td>42</td>\n",
       "      <td>2.0</td>\n",
       "      <td>0.00</td>\n",
       "      <td>1</td>\n",
       "      <td>1</td>\n",
       "      <td>1</td>\n",
       "      <td>101348.88</td>\n",
       "      <td>1</td>\n",
       "    </tr>\n",
       "    <tr>\n",
       "      <td>1</td>\n",
       "      <td>2</td>\n",
       "      <td>15647311</td>\n",
       "      <td>Hill</td>\n",
       "      <td>608</td>\n",
       "      <td>Spain</td>\n",
       "      <td>Female</td>\n",
       "      <td>41</td>\n",
       "      <td>1.0</td>\n",
       "      <td>83807.86</td>\n",
       "      <td>1</td>\n",
       "      <td>0</td>\n",
       "      <td>1</td>\n",
       "      <td>112542.58</td>\n",
       "      <td>0</td>\n",
       "    </tr>\n",
       "    <tr>\n",
       "      <td>2</td>\n",
       "      <td>3</td>\n",
       "      <td>15619304</td>\n",
       "      <td>Onio</td>\n",
       "      <td>502</td>\n",
       "      <td>France</td>\n",
       "      <td>Female</td>\n",
       "      <td>42</td>\n",
       "      <td>8.0</td>\n",
       "      <td>159660.80</td>\n",
       "      <td>3</td>\n",
       "      <td>1</td>\n",
       "      <td>0</td>\n",
       "      <td>113931.57</td>\n",
       "      <td>1</td>\n",
       "    </tr>\n",
       "    <tr>\n",
       "      <td>3</td>\n",
       "      <td>4</td>\n",
       "      <td>15701354</td>\n",
       "      <td>Boni</td>\n",
       "      <td>699</td>\n",
       "      <td>France</td>\n",
       "      <td>Female</td>\n",
       "      <td>39</td>\n",
       "      <td>1.0</td>\n",
       "      <td>0.00</td>\n",
       "      <td>2</td>\n",
       "      <td>0</td>\n",
       "      <td>0</td>\n",
       "      <td>93826.63</td>\n",
       "      <td>0</td>\n",
       "    </tr>\n",
       "    <tr>\n",
       "      <td>4</td>\n",
       "      <td>5</td>\n",
       "      <td>15737888</td>\n",
       "      <td>Mitchell</td>\n",
       "      <td>850</td>\n",
       "      <td>Spain</td>\n",
       "      <td>Female</td>\n",
       "      <td>43</td>\n",
       "      <td>2.0</td>\n",
       "      <td>125510.82</td>\n",
       "      <td>1</td>\n",
       "      <td>1</td>\n",
       "      <td>1</td>\n",
       "      <td>79084.10</td>\n",
       "      <td>0</td>\n",
       "    </tr>\n",
       "  </tbody>\n",
       "</table>\n",
       "</div>"
      ],
      "text/plain": [
       "   RowNumber  CustomerId   Surname  CreditScore Geography  Gender  Age  \\\n",
       "0          1    15634602  Hargrave          619    France  Female   42   \n",
       "1          2    15647311      Hill          608     Spain  Female   41   \n",
       "2          3    15619304      Onio          502    France  Female   42   \n",
       "3          4    15701354      Boni          699    France  Female   39   \n",
       "4          5    15737888  Mitchell          850     Spain  Female   43   \n",
       "\n",
       "   Tenure    Balance  NumOfProducts  HasCrCard  IsActiveMember  \\\n",
       "0     2.0       0.00              1          1               1   \n",
       "1     1.0   83807.86              1          0               1   \n",
       "2     8.0  159660.80              3          1               0   \n",
       "3     1.0       0.00              2          0               0   \n",
       "4     2.0  125510.82              1          1               1   \n",
       "\n",
       "   EstimatedSalary  Exited  \n",
       "0        101348.88       1  \n",
       "1        112542.58       0  \n",
       "2        113931.57       1  \n",
       "3         93826.63       0  \n",
       "4         79084.10       0  "
      ]
     },
     "metadata": {},
     "output_type": "display_data"
    }
   ],
   "source": [
    "df = pd.read_csv('/datasets/Churn.csv')\n",
    "df.info()\n",
    "print(\"\\n\")\n",
    "#Finding out sum & percentage of missing values in each feature.\n",
    "print(\"======= Amount Missing =======\")\n",
    "missing_values_count = df.isnull().sum()\n",
    "print(missing_values_count[0:10])\n",
    "print(\"\\n\")\n",
    "print(\"======= Percent Missing =======\")\n",
    "null = (df.isna().sum()/len(df)) * 100\n",
    "print(null[null>0].sort_values())\n",
    "print(\"\\n\")\n",
    "display(df.head())"
   ]
  },
  {
   "cell_type": "markdown",
   "metadata": {},
   "source": [
    "### General Information Conclusion"
   ]
  },
  {
   "cell_type": "markdown",
   "metadata": {},
   "source": [
    ">Tenure could be missing data because of human error.\n",
    "<br> The column ```Tenure``` has a datatype of float. After reviewing data in this column, it would be okay to change the datatype to int. This is a minor detail and has no impact on the data.\n",
    "<br>\n",
    "In the next section, I will make the column titles lowercase and shorten them for brevity. I will also fill in missing data.\n"
   ]
  },
  {
   "cell_type": "markdown",
   "metadata": {},
   "source": [
    "## Data Preprocessing"
   ]
  },
  {
   "cell_type": "code",
   "execution_count": 3,
   "metadata": {},
   "outputs": [
    {
     "data": {
      "text/html": [
       "<div>\n",
       "<style scoped>\n",
       "    .dataframe tbody tr th:only-of-type {\n",
       "        vertical-align: middle;\n",
       "    }\n",
       "\n",
       "    .dataframe tbody tr th {\n",
       "        vertical-align: top;\n",
       "    }\n",
       "\n",
       "    .dataframe thead th {\n",
       "        text-align: right;\n",
       "    }\n",
       "</style>\n",
       "<table border=\"1\" class=\"dataframe\">\n",
       "  <thead>\n",
       "    <tr style=\"text-align: right;\">\n",
       "      <th></th>\n",
       "      <th>row_num</th>\n",
       "      <th>cust_id</th>\n",
       "      <th>surname</th>\n",
       "      <th>credit_score</th>\n",
       "      <th>geography</th>\n",
       "      <th>gender</th>\n",
       "      <th>age</th>\n",
       "      <th>tenure</th>\n",
       "      <th>balance</th>\n",
       "      <th>num_products</th>\n",
       "      <th>credit_card</th>\n",
       "      <th>is_active</th>\n",
       "      <th>estim_salary</th>\n",
       "      <th>exited</th>\n",
       "    </tr>\n",
       "  </thead>\n",
       "  <tbody>\n",
       "    <tr>\n",
       "      <td>7163</td>\n",
       "      <td>7163.0</td>\n",
       "      <td>3619.0</td>\n",
       "      <td>2520.0</td>\n",
       "      <td>172.0</td>\n",
       "      <td>0.0</td>\n",
       "      <td>1.0</td>\n",
       "      <td>31.0</td>\n",
       "      <td>7</td>\n",
       "      <td>0.0</td>\n",
       "      <td>1.0</td>\n",
       "      <td>1.0</td>\n",
       "      <td>1.0</td>\n",
       "      <td>4071.0</td>\n",
       "      <td>0.0</td>\n",
       "    </tr>\n",
       "    <tr>\n",
       "      <td>7208</td>\n",
       "      <td>7208.0</td>\n",
       "      <td>606.0</td>\n",
       "      <td>1632.0</td>\n",
       "      <td>199.0</td>\n",
       "      <td>1.0</td>\n",
       "      <td>1.0</td>\n",
       "      <td>15.0</td>\n",
       "      <td>2</td>\n",
       "      <td>5195.0</td>\n",
       "      <td>0.0</td>\n",
       "      <td>1.0</td>\n",
       "      <td>1.0</td>\n",
       "      <td>1672.0</td>\n",
       "      <td>0.0</td>\n",
       "    </tr>\n",
       "    <tr>\n",
       "      <td>6681</td>\n",
       "      <td>6681.0</td>\n",
       "      <td>6226.0</td>\n",
       "      <td>1364.0</td>\n",
       "      <td>213.0</td>\n",
       "      <td>2.0</td>\n",
       "      <td>1.0</td>\n",
       "      <td>24.0</td>\n",
       "      <td>10</td>\n",
       "      <td>0.0</td>\n",
       "      <td>1.0</td>\n",
       "      <td>1.0</td>\n",
       "      <td>0.0</td>\n",
       "      <td>8089.0</td>\n",
       "      <td>0.0</td>\n",
       "    </tr>\n",
       "    <tr>\n",
       "      <td>8743</td>\n",
       "      <td>8743.0</td>\n",
       "      <td>6075.0</td>\n",
       "      <td>2204.0</td>\n",
       "      <td>111.0</td>\n",
       "      <td>1.0</td>\n",
       "      <td>0.0</td>\n",
       "      <td>26.0</td>\n",
       "      <td>0</td>\n",
       "      <td>3861.0</td>\n",
       "      <td>1.0</td>\n",
       "      <td>1.0</td>\n",
       "      <td>1.0</td>\n",
       "      <td>7163.0</td>\n",
       "      <td>1.0</td>\n",
       "    </tr>\n",
       "    <tr>\n",
       "      <td>2542</td>\n",
       "      <td>2542.0</td>\n",
       "      <td>2179.0</td>\n",
       "      <td>938.0</td>\n",
       "      <td>321.0</td>\n",
       "      <td>2.0</td>\n",
       "      <td>0.0</td>\n",
       "      <td>15.0</td>\n",
       "      <td>10</td>\n",
       "      <td>1643.0</td>\n",
       "      <td>1.0</td>\n",
       "      <td>1.0</td>\n",
       "      <td>1.0</td>\n",
       "      <td>2206.0</td>\n",
       "      <td>0.0</td>\n",
       "    </tr>\n",
       "  </tbody>\n",
       "</table>\n",
       "</div>"
      ],
      "text/plain": [
       "      row_num  cust_id  surname  credit_score  geography  gender   age  \\\n",
       "7163   7163.0   3619.0   2520.0         172.0        0.0     1.0  31.0   \n",
       "7208   7208.0    606.0   1632.0         199.0        1.0     1.0  15.0   \n",
       "6681   6681.0   6226.0   1364.0         213.0        2.0     1.0  24.0   \n",
       "8743   8743.0   6075.0   2204.0         111.0        1.0     0.0  26.0   \n",
       "2542   2542.0   2179.0    938.0         321.0        2.0     0.0  15.0   \n",
       "\n",
       "      tenure  balance  num_products  credit_card  is_active  estim_salary  \\\n",
       "7163       7      0.0           1.0          1.0        1.0        4071.0   \n",
       "7208       2   5195.0           0.0          1.0        1.0        1672.0   \n",
       "6681      10      0.0           1.0          1.0        0.0        8089.0   \n",
       "8743       0   3861.0           1.0          1.0        1.0        7163.0   \n",
       "2542      10   1643.0           1.0          1.0        1.0        2206.0   \n",
       "\n",
       "      exited  \n",
       "7163     0.0  \n",
       "7208     0.0  \n",
       "6681     0.0  \n",
       "8743     1.0  \n",
       "2542     0.0  "
      ]
     },
     "execution_count": 3,
     "metadata": {},
     "output_type": "execute_result"
    }
   ],
   "source": [
    "df = df.dropna()\n",
    "df.columns=df.columns.str.lower()\n",
    "encoder = OrdinalEncoder() \n",
    "encoder.fit(df)\n",
    "data_ordinal = pd.DataFrame(encoder.fit_transform(df), columns=df.columns)\n",
    "\n",
    "data_ordinal.rename(columns={'rownumber':'row_num', 'customerid':'cust_id', \n",
    "                   'creditscore':'credit_score','numofproducts':'num_products', \n",
    "                   'hascrcard':'credit_card', 'isactivemember':'is_active',\n",
    "                   'estimatedsalary':'estim_salary'}, inplace=True)\n",
    "\n",
    "data_ordinal['tenure'] = data_ordinal['tenure'].replace(np.nan, 0)\n",
    "data_ordinal['tenure'] = data_ordinal['tenure'].astype('int')\n",
    "data_ordinal.sample(5)\n",
    "#fillna values, convert to int"
   ]
  },
  {
   "cell_type": "markdown",
   "metadata": {},
   "source": [
    "> To have the categorical features included in the data, I used ordinal encoding. Ordinal encoding replaces the categories with arbitrary numeric labels. I replaced the missing tenure values with values of 0 as a simple way to fill in missing data. Another way would be to have a separate dataset without the null values. Then create a function that puts the credit scores into groups and group by tenure taking the mean for that specific credit group and replacing the missing values. "
   ]
  },
  {
   "cell_type": "markdown",
   "metadata": {},
   "source": [
    "## Splitting Data into test/train/validation set"
   ]
  },
  {
   "cell_type": "code",
   "execution_count": 4,
   "metadata": {},
   "outputs": [
    {
     "name": "stdout",
     "output_type": "stream",
     "text": [
      "trained features:\n",
      "      row_num  cust_id  surname  credit_score  geography  gender   age  \\\n",
      "8483   8483.0   5603.0    165.0         334.0        0.0     0.0  10.0   \n",
      "3431   3431.0    417.0   1847.0         144.0        0.0     1.0   8.0   \n",
      "6770   6770.0   1150.0   1595.0         217.0        0.0     1.0  22.0   \n",
      "1350   1350.0   4922.0   1520.0         183.0        0.0     1.0  18.0   \n",
      "4047   4047.0   2003.0   1592.0         156.0        0.0     1.0  13.0   \n",
      "\n",
      "      tenure  balance  num_products  credit_card  is_active  estim_salary  \n",
      "8483       2   2228.0           0.0          1.0        0.0        4615.0  \n",
      "3431       7   1879.0           0.0          0.0        0.0        4722.0  \n",
      "6770       9      0.0           0.0          1.0        1.0        6822.0  \n",
      "1350       6      0.0           1.0          1.0        1.0        2146.0  \n",
      "4047       4      0.0           1.0          0.0        1.0        1151.0  \n",
      "\n",
      "trained targets:\n",
      "8483    0.0\n",
      "3431    0.0\n",
      "6770    0.0\n",
      "1350    0.0\n",
      "4047    0.0\n",
      "Name: exited, dtype: float64\n"
     ]
    }
   ],
   "source": [
    "df_train, df_temp = train_test_split(data_ordinal,test_size=0.4, random_state=12345)\n",
    "df_test, df_valid = train_test_split(df_temp, test_size=0.5, random_state=12345)\n",
    "\n",
    "features_train = df_train.drop(['exited'], axis=1)\n",
    "target_train = df_train['exited']\n",
    "\n",
    "features_valid = df_valid.drop(['exited'], axis=1)\n",
    "target_valid = df_valid['exited']\n",
    "\n",
    "features_test = df_test.drop(['exited'], axis=1)\n",
    "target_test = df_test['exited']\n",
    "\n",
    "print(\"trained features:\")\n",
    "print(features_train.head(5))\n",
    "print('')\n",
    "print(\"trained targets:\")\n",
    "print(target_train.head(5))"
   ]
  },
  {
   "cell_type": "code",
   "execution_count": 5,
   "metadata": {},
   "outputs": [
    {
     "name": "stdout",
     "output_type": "stream",
     "text": [
      "Confusion Matrix\n",
      "[[1258  210]\n",
      " [ 163  188]]\n",
      "\n",
      "Classification Report:\n",
      "               precision    recall  f1-score   support\n",
      "\n",
      "         0.0       0.89      0.86      0.87      1468\n",
      "         1.0       0.47      0.54      0.50       351\n",
      "\n",
      "    accuracy                           0.79      1819\n",
      "   macro avg       0.68      0.70      0.69      1819\n",
      "weighted avg       0.81      0.79      0.80      1819\n",
      "\n"
     ]
    },
    {
     "data": {
      "image/png": "[encoded data removed]",
      "text/plain": [
       "<Figure size 432x288 with 1 Axes>"
      ]
     },
     "metadata": {
      "needs_background": "light"
     },
     "output_type": "display_data"
    }
   ],
   "source": [
    "model = DecisionTreeClassifier(random_state=12345)\n",
    "model.fit(features_train, target_train)\n",
    "predicted_valid = model.predict(features_valid)\n",
    "print(\"Confusion Matrix\")\n",
    "print(confusion_matrix(target_valid, predicted_valid))\n",
    "print(\"\")\n",
    "print(\"Classification Report:\\n\", classification_report(target_valid, predicted_valid))\n",
    "\n",
    "# Class count\n",
    "count_class_0, count_class_1 = df_train['exited'].value_counts()\n",
    "\n",
    "# Divide by class\n",
    "df_class_0 = df_train[df_train['exited'] == 0]\n",
    "df_class_1 = df_train[df_train['exited'] == 1]\n",
    "df_train.exited.value_counts().plot(kind='bar', title='Count (target)');"
   ]
  },
  {
   "cell_type": "markdown",
   "metadata": {},
   "source": [
    "### Conclusion"
   ]
  },
  {
   "cell_type": "markdown",
   "metadata": {},
   "source": [
    ">Since we are trying to predict whether a client will leave the blank or not, our target is ```exited```. We call the rest of the columns features. We then split the data into two variables df_train and df_temp. df_temp was created so it could be split again to make the df_test and df_valid variables. A confusion_matrix was run to discover if there is a class imbalance. After generating the matrix we see a large presence of true negative answers. True negative is an outcome where the model correctly predicts the negative class. So this isn't necessarily bad.\n",
    "<br>\n",
    "For conciseness, I created a classification report and displayed a bar graph. As expected, the 0 class (false or have not left the bank yet) has a large presence in the data. In the next section I will improve the model quality by performing downsampling and upsampling."
   ]
  },
  {
   "cell_type": "markdown",
   "metadata": {},
   "source": [
    "## Improving Model Quality"
   ]
  },
  {
   "cell_type": "markdown",
   "metadata": {},
   "source": [
    "### Method 1: Random Downsampling"
   ]
  },
  {
   "cell_type": "markdown",
   "metadata": {},
   "source": [
    ">Downsampling fixes class imbalance but randomly eliminates majority class examples. It conceeds when the classes are balanced."
   ]
  },
  {
   "cell_type": "code",
   "execution_count": 6,
   "metadata": {},
   "outputs": [
    {
     "name": "stdout",
     "output_type": "stream",
     "text": [
      "Random downsampling:\n",
      "1.0    1126\n",
      "0.0    1126\n",
      "Name: exited, dtype: int64\n"
     ]
    },
    {
     "data": {
      "image/png": "[encoded data removed]",
      "text/plain": [
       "<Figure size 432x288 with 1 Axes>"
      ]
     },
     "metadata": {
      "needs_background": "light"
     },
     "output_type": "display_data"
    }
   ],
   "source": [
    "# Class count\n",
    "count_class_0, count_class_1 = df_train['exited'].value_counts()\n",
    "\n",
    "# Divide by class\n",
    "df_class_0 = df_train[df_train['exited'] == 0] # have not left the bank yet\n",
    "df_class_1 = df_train[df_train['exited'] == 1] # have left the bank\n",
    "\n",
    "df_class_0_under = df_class_0.sample(count_class_1)\n",
    "df_test_under = pd.concat([df_class_0_under, df_class_1], axis=0)\n",
    "\n",
    "print('Random downsampling:')\n",
    "print(df_test_under.exited.value_counts())\n",
    "\n",
    "df_test_under.exited.value_counts().plot(kind='bar', title='Count (target)');"
   ]
  },
  {
   "cell_type": "markdown",
   "metadata": {},
   "source": [
    "### Method 1: Conclusion"
   ]
  },
  {
   "cell_type": "markdown",
   "metadata": {},
   "source": [
    "> Using the random undersampling method, we are able to balance the data with equal counts on both class 0 and class 1 by eliminating the majority class examples (in this case decreasing the class 0.) While this is a good thing, the consequence of using the random undersampling method is possible loss of important data to build classifiers. This is evident in the class count above! Another consequence is that the sample chosen to undersample could be biased."
   ]
  },
  {
   "cell_type": "markdown",
   "metadata": {},
   "source": [
    "### Method 2: Random Upsampling"
   ]
  },
  {
   "cell_type": "code",
   "execution_count": 7,
   "metadata": {},
   "outputs": [
    {
     "name": "stdout",
     "output_type": "stream",
     "text": [
      "Simple upsampling:\n",
      "1.0    4328\n",
      "0.0    4328\n",
      "Name: exited, dtype: int64\n"
     ]
    },
    {
     "data": {
      "image/png": "[encoded data removed]",
      "text/plain": [
       "<Figure size 432x288 with 1 Axes>"
      ]
     },
     "metadata": {
      "needs_background": "light"
     },
     "output_type": "display_data"
    }
   ],
   "source": [
    "df_class_1_over = df_class_1.sample(count_class_0, replace=True)\n",
    "df_test_over = pd.concat([df_class_0, df_class_1_over], axis=0)\n",
    "\n",
    "print('Simple upsampling:')\n",
    "print(df_test_over.exited.value_counts())\n",
    "\n",
    "df_test_over.exited.value_counts().plot(kind='bar', title='Count (target)');"
   ]
  },
  {
   "cell_type": "markdown",
   "metadata": {},
   "source": [
    "### Method 2: Conclusion"
   ]
  },
  {
   "cell_type": "markdown",
   "metadata": {},
   "source": [
    ">Using the random upsampling method, we are able to balance the data with equal counts on both class 0 and class 1 by replicating the minority class examples (in this case we increase the class 1.) While this is a good thing, the consequence of using the random upsampling method is overfitting."
   ]
  },
  {
   "cell_type": "markdown",
   "metadata": {},
   "source": [
    "> We will continue the project with the results from the random upsampling as we have more data to work with."
   ]
  },
  {
   "cell_type": "markdown",
   "metadata": {},
   "source": [
    "## Building Model"
   ]
  },
  {
   "cell_type": "markdown",
   "metadata": {},
   "source": [
    "### Decision Tree Classifier"
   ]
  },
  {
   "cell_type": "code",
   "execution_count": 8,
   "metadata": {},
   "outputs": [
    {
     "name": "stdout",
     "output_type": "stream",
     "text": [
      "f1 test: 0.5720294426919034\n",
      "f1 valid: 0.5493757094211124\n",
      "auc_roc: 0.8285067188336944\n"
     ]
    }
   ],
   "source": [
    "model = DecisionTreeClassifier(random_state=12345, max_depth=6, criterion='entropy',\n",
    "                                              min_samples_split=10,\n",
    "                                              min_samples_leaf=15, \n",
    "                                              max_features=None, \n",
    "                                              max_leaf_nodes=None, \n",
    "                                              class_weight=\"balanced\")\n",
    "model.fit(features_train, target_train)\n",
    "predicted_test = model.predict(features_test)\n",
    "predicted_valid = model.predict(features_valid)\n",
    "\n",
    "probabilities_valid = model.predict_proba(features_valid)\n",
    "probabilities_one_valid = probabilities_valid[:, 1]\n",
    "auc_roc = roc_auc_score(target_valid, probabilities_one_valid)\n",
    "\n",
    "print(\"f1 test:\",f1_score(target_test, predicted_test))\n",
    "print(\"f1 valid:\", f1_score(target_valid, predicted_valid))\n",
    "print(\"auc_roc:\", auc_roc)"
   ]
  },
  {
   "cell_type": "markdown",
   "metadata": {},
   "source": [
    "> The AUC ROC metric measures the aggregate performance of all possible classification models. Our AUC ROC score is 0.82 which means the data has a good measure of separability."
   ]
  },
  {
   "cell_type": "markdown",
   "metadata": {},
   "source": [
    "### Random Forest Classifier"
   ]
  },
  {
   "cell_type": "code",
   "execution_count": 9,
   "metadata": {},
   "outputs": [
    {
     "name": "stdout",
     "output_type": "stream",
     "text": [
      "f1 test: 0.5661641541038525\n",
      "f1 valid: 0.5642857142857142\n",
      "auc_roc: 0.855600386594937\n"
     ]
    }
   ],
   "source": [
    "rfc = RandomForestClassifier(n_estimators=30,\n",
    "                                              criterion='gini', \n",
    "                                              max_depth=None,\n",
    "                                              min_samples_split=20,\n",
    "                                              min_samples_leaf=12, \n",
    "                                              max_features=None, \n",
    "                                              max_leaf_nodes=None, \n",
    "                                              n_jobs=1, \n",
    "                                              random_state=None,\n",
    "                                              warm_start=False, \n",
    "                                              class_weight=None)\n",
    "    #n_estimators=10, max_depth=15, criterion='gini', random_state=12345)\n",
    "rfc.fit(features_train, target_train)\n",
    "rfc_preds_test = rfc.predict(features_test)\n",
    "rfc_preds_valid = rfc.predict(features_valid)\n",
    "\n",
    "probabilities_valid = rfc.predict_proba(features_valid)\n",
    "probabilities_one_valid = probabilities_valid[:, 1]\n",
    "auc_roc = roc_auc_score(target_valid, probabilities_one_valid)\n",
    "\n",
    "print(\"f1 test:\",f1_score(target_test, rfc_preds_test))\n",
    "print(\"f1 valid:\",f1_score(target_valid, rfc_preds_valid))\n",
    "print(\"auc_roc:\", auc_roc)"
   ]
  },
  {
   "cell_type": "markdown",
   "metadata": {},
   "source": [
    "### Building Model: Conclusion"
   ]
  },
  {
   "cell_type": "markdown",
   "metadata": {},
   "source": [
    ">The RandomForest Classifier gives us an f1 score of 0.5953 meaning the balance between the precision and the recall is just about equal. The f1 score for the validation is in the same area, but not quite. To find how much our model differs from the random model, we calculate the AUC ROC and sees it does better than the DecisionTree Classifier."
   ]
  },
  {
   "cell_type": "markdown",
   "metadata": {},
   "source": [
    "## Checking the quality of the model"
   ]
  },
  {
   "cell_type": "code",
   "execution_count": 10,
   "metadata": {},
   "outputs": [
    {
     "name": "stdout",
     "output_type": "stream",
     "text": [
      "RandomForest Classifier Accuracy\n",
      "Test set: 0.8575357535753575\n",
      "\n",
      "[0. 0. 1. 0. 0. 0. 0. 0. 0. 0. 0. 0. 0. 1. 0. 0. 0. 0. 0. 0. 0. 0. 0. 0.\n",
      " 0. 0. 0. 0. 1. 1. 0. 0. 0. 0. 0. 0. 0. 0. 0. 0. 0. 0. 0. 0. 0. 0. 0. 0.\n",
      " 0. 0. 0. 0. 0. 1. 1. 0. 0. 0. 0. 0. 0. 0. 0. 0. 0. 1. 0. 0. 0. 0. 0. 0.\n",
      " 0. 0. 0. 0. 0. 0. 0. 0. 0. 0. 1. 0. 0. 0. 1. 0. 1. 0. 0. 0. 1. 0. 0. 1.\n",
      " 0. 0. 0. 0.]\n"
     ]
    }
   ],
   "source": [
    "rfc_predictionsv2 = rfc.predict(features_test)\n",
    "print(\"RandomForest Classifier Accuracy\")\n",
    "print(\"Test set:\", accuracy_score(target_test, rfc_predictionsv2))\n",
    "print(\"\")\n",
    "print(rfc_predictionsv2[0:100])"
   ]
  },
  {
   "cell_type": "markdown",
   "metadata": {},
   "source": [
    "## Results"
   ]
  },
  {
   "cell_type": "markdown",
   "metadata": {},
   "source": [
    "> To study customers' behaviors we split the data into three separate categories: training, testing, and validation. We then used ordinal encoding to assign random meaningless numbers to our categorical columns so we can use them. After, we used upsampling and downsampling to balance the dataset as the 0 class was heavily weighted. To train the data we used the DecisionTree Classifier and RandomForest Classifier. The RandomForest Classifier gave us the best f1 and AUC ROC score (0.598 and .854 respectively). We've created trained and tested a model, but what does this mean for Beta Bank? This means the data has a good measure of separability and it is a reliable tool for Beta Bank to use to get a good sense of whether a customer will leave the bank."
   ]
  }
 ],
 "metadata": {
  "ExecuteTimeLog": [
   {
    "duration": 1373,
    "start_time": "2021-08-24T21:30:18.000Z"
   },
   {
    "duration": 80,
    "start_time": "2021-08-24T21:30:19.375Z"
   },
   {
    "duration": 88,
    "start_time": "2021-08-24T21:30:19.458Z"
   },
   {
    "duration": 41,
    "start_time": "2021-08-24T21:30:19.550Z"
   },
   {
    "duration": 416,
    "start_time": "2021-08-24T21:30:19.594Z"
   },
   {
    "duration": 236,
    "start_time": "2021-08-24T21:30:20.013Z"
   },
   {
    "duration": 226,
    "start_time": "2021-08-24T21:30:20.251Z"
   },
   {
    "duration": 63,
    "start_time": "2021-08-24T21:30:20.481Z"
   },
   {
    "duration": 905,
    "start_time": "2021-08-24T21:30:20.546Z"
   },
   {
    "duration": 27,
    "start_time": "2021-08-24T21:30:21.453Z"
   }
  ],
  "kernelspec": {
   "display_name": "Python 3",
   "language": "python",
   "name": "python3"
  },
  "language_info": {
   "codemirror_mode": {
    "name": "ipython",
    "version": 3
   },
   "file_extension": ".py",
   "mimetype": "text/x-python",
   "name": "python",
   "nbconvert_exporter": "python",
   "pygments_lexer": "ipython3",
   "version": "3.7.8"
  },
  "toc": {
   "base_numbering": 1,
   "nav_menu": {},
   "number_sections": true,
   "sideBar": true,
   "skip_h1_title": true,
   "title_cell": "Table of Contents",
   "title_sidebar": "Contents",
   "toc_cell": false,
   "toc_position": {},
   "toc_section_display": true,
   "toc_window_display": false
  }
 },
 "nbformat": 4,
 "nbformat_minor": 2
}
