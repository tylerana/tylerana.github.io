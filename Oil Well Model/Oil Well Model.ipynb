{
 "cells": [
  {
   "cell_type": "markdown",
   "metadata": {},
   "source": [
    "# Machine Learning For Business"
   ]
  },
  {
   "cell_type": "markdown",
   "metadata": {},
   "source": [
    ">The goal of this project to find the region with the highest profit margin for new well development."
   ]
  },
  {
   "cell_type": "code",
   "execution_count": 1,
   "metadata": {},
   "outputs": [],
   "source": [
    "import pandas as pd\n",
    "import numpy as np\n",
    "from scipy import stats as st\n",
    "from sklearn.model_selection import train_test_split\n",
    "from sklearn.linear_model import LinearRegression\n",
    "from sklearn.tree import DecisionTreeClassifier\n",
    "from sklearn.preprocessing import OrdinalEncoder \n",
    "from sklearn.preprocessing import StandardScaler\n",
    "from sklearn.metrics import mean_squared_error\n",
    "import matplotlib.pyplot as plt"
   ]
  },
  {
   "cell_type": "markdown",
   "metadata": {},
   "source": [
    "## Download and Prepare Data"
   ]
  },
  {
   "cell_type": "markdown",
   "metadata": {},
   "source": [
    "### General Information"
   ]
  },
  {
   "cell_type": "code",
   "execution_count": 2,
   "metadata": {},
   "outputs": [
    {
     "name": "stdout",
     "output_type": "stream",
     "text": [
      "<class 'pandas.core.frame.DataFrame'>\n",
      "RangeIndex: 100000 entries, 0 to 99999\n",
      "Data columns (total 5 columns):\n",
      "id         100000 non-null object\n",
      "f0         100000 non-null float64\n",
      "f1         100000 non-null float64\n",
      "f2         100000 non-null float64\n",
      "product    100000 non-null float64\n",
      "dtypes: float64(4), object(1)\n",
      "memory usage: 3.8+ MB\n",
      "\n",
      "<class 'pandas.core.frame.DataFrame'>\n",
      "RangeIndex: 100000 entries, 0 to 99999\n",
      "Data columns (total 5 columns):\n",
      "id         100000 non-null object\n",
      "f0         100000 non-null float64\n",
      "f1         100000 non-null float64\n",
      "f2         100000 non-null float64\n",
      "product    100000 non-null float64\n",
      "dtypes: float64(4), object(1)\n",
      "memory usage: 3.8+ MB\n",
      "\n",
      "<class 'pandas.core.frame.DataFrame'>\n",
      "RangeIndex: 100000 entries, 0 to 99999\n",
      "Data columns (total 5 columns):\n",
      "id         100000 non-null object\n",
      "f0         100000 non-null float64\n",
      "f1         100000 non-null float64\n",
      "f2         100000 non-null float64\n",
      "product    100000 non-null float64\n",
      "dtypes: float64(4), object(1)\n",
      "memory usage: 3.8+ MB\n"
     ]
    },
    {
     "data": {
      "text/html": [
       "<div>\n",
       "<style scoped>\n",
       "    .dataframe tbody tr th:only-of-type {\n",
       "        vertical-align: middle;\n",
       "    }\n",
       "\n",
       "    .dataframe tbody tr th {\n",
       "        vertical-align: top;\n",
       "    }\n",
       "\n",
       "    .dataframe thead th {\n",
       "        text-align: right;\n",
       "    }\n",
       "</style>\n",
       "<table border=\"1\" class=\"dataframe\">\n",
       "  <thead>\n",
       "    <tr style=\"text-align: right;\">\n",
       "      <th></th>\n",
       "      <th>id</th>\n",
       "      <th>f0</th>\n",
       "      <th>f1</th>\n",
       "      <th>f2</th>\n",
       "      <th>product</th>\n",
       "    </tr>\n",
       "  </thead>\n",
       "  <tbody>\n",
       "  </tbody>\n",
       "</table>\n",
       "</div>"
      ],
      "text/plain": [
       "Empty DataFrame\n",
       "Columns: [id, f0, f1, f2, product]\n",
       "Index: []"
      ]
     },
     "execution_count": 2,
     "metadata": {},
     "output_type": "execute_result"
    }
   ],
   "source": [
    "r1 = pd.read_csv('/datasets/geo_data_0.csv')\n",
    "r1.info()\n",
    "r1.head()\n",
    "r1[r1.duplicated()]\n",
    "print(\"\")\n",
    "\n",
    "r2 = pd.read_csv('/datasets/geo_data_1.csv')\n",
    "r2.info()\n",
    "r2.head()\n",
    "r2[r2.duplicated()]\n",
    "\n",
    "print(\"\")\n",
    "r3 = pd.read_csv('/datasets/geo_data_2.csv')\n",
    "r3.info()\n",
    "r3.head()\n",
    "r3[r3.duplicated()]"
   ]
  },
  {
   "cell_type": "markdown",
   "metadata": {},
   "source": [
    "### Identify the features/target"
   ]
  },
  {
   "cell_type": "code",
   "execution_count": 3,
   "metadata": {},
   "outputs": [],
   "source": [
    "r1_features = r1.drop(['product', 'id'], axis=1)\n",
    "r1_target = r1['product']\n",
    "\n",
    "r2_features = r2.drop(['product', 'id'], axis=1)\n",
    "r2_target = r2['product']\n",
    "\n",
    "r3_features = r3.drop(['product', 'id'], axis=1)\n",
    "r3_target = r3['product']"
   ]
  },
  {
   "cell_type": "markdown",
   "metadata": {},
   "source": [
    "### General Information Conclusion"
   ]
  },
  {
   "cell_type": "markdown",
   "metadata": {},
   "source": [
    ">When approaching a dataset that I am not familiar with, the first thing I do is look at the information about the dataset. I print out the information revealing the columns and datatypes for those columns. I check to see if any column has the wrong data type and needs to be fixed in the data processing stage. After, I want to see the dataframe and printed out the head of each region."
   ]
  },
  {
   "cell_type": "markdown",
   "metadata": {},
   "source": [
    "## Train and test the model for each region"
   ]
  },
  {
   "cell_type": "markdown",
   "metadata": {},
   "source": [
    "### Split the data into a training set and validation set at a ratio of 75:25."
   ]
  },
  {
   "cell_type": "code",
   "execution_count": 4,
   "metadata": {},
   "outputs": [],
   "source": [
    "# region 1\n",
    "r1_features_train, r1_features_valid, r1_target_train, r1_target_valid  = train_test_split(r1_features, r1_target, test_size=0.25, random_state=12345) \n",
    "\n",
    "# region 2\n",
    "r2_features_train, r2_features_valid, r2_target_train, r2_target_valid  = train_test_split(r2_features, r2_target, test_size=0.25, random_state=12345) \n",
    "\n",
    "# region 3\n",
    "r3_features_train, r3_features_valid, r3_target_train, r3_target_valid  = train_test_split(r3_features, r3_target, test_size=0.25, random_state=12345) \n"
   ]
  },
  {
   "cell_type": "markdown",
   "metadata": {},
   "source": [
    "### Train the model and make predictions for the validation set."
   ]
  },
  {
   "cell_type": "code",
   "execution_count": 5,
   "metadata": {},
   "outputs": [],
   "source": [
    "# region 1\n",
    "model = LinearRegression()\n",
    "model.fit(r1_features_train, r1_target_train)\n",
    "r1_predicted_valid = model.predict(r1_features_valid)\n",
    "\n",
    "# region 2\n",
    "model = LinearRegression()\n",
    "model.fit(r2_features_train, r2_target_train)\n",
    "r2_predicted_valid = model.predict(r2_features_valid)\n",
    "\n",
    "# region 3\n",
    "model = LinearRegression()\n",
    "model.fit(r3_features_train, r3_target_train)\n",
    "r3_predicted_valid = model.predict(r3_features_valid)"
   ]
  },
  {
   "cell_type": "code",
   "execution_count": 6,
   "metadata": {},
   "outputs": [],
   "source": [
    "region1 = pd.DataFrame(data=r1_target_valid)\n",
    "region1.columns = ['actual']\n",
    "region1['predicted'] = r1_predicted_valid\n",
    "\n",
    "region2 = pd.DataFrame(data=r2_target_valid)\n",
    "region2.columns = ['actual']\n",
    "region2['predicted'] = r2_predicted_valid\n",
    "\n",
    "region3 = pd.DataFrame(data=r3_target_valid)\n",
    "region3.columns = ['actual']\n",
    "region3['predicted'] = r3_predicted_valid"
   ]
  },
  {
   "cell_type": "markdown",
   "metadata": {},
   "source": [
    "### Print the average volume of predicted reserves and model RMSE."
   ]
  },
  {
   "cell_type": "code",
   "execution_count": 7,
   "metadata": {},
   "outputs": [
    {
     "name": "stdout",
     "output_type": "stream",
     "text": [
      "Region 1 avg volume of predicted reserves: 92.59256778438038\n",
      "Region 2 avg volume of predicted reserves: 68.728546895446\n",
      "Region 3 avg volume of predicted reserves: 94.96504596800489\n"
     ]
    }
   ],
   "source": [
    "\n",
    "# region 1\n",
    "print(\"Region 1 avg volume of predicted reserves:\", region1['predicted'].mean())\n",
    "print(\"Region 2 avg volume of predicted reserves:\", region2['predicted'].mean())\n",
    "print(\"Region 3 avg volume of predicted reserves:\", region3['predicted'].mean())\n"
   ]
  },
  {
   "cell_type": "code",
   "execution_count": 8,
   "metadata": {},
   "outputs": [
    {
     "name": "stdout",
     "output_type": "stream",
     "text": [
      "Region 1 RMSE: 37.5794217150813\n",
      "Region 2 RMSE: 0.893099286775616\n",
      "Region 3 RMSE: 40.02970873393434\n"
     ]
    }
   ],
   "source": [
    "# calculating the RMSE\n",
    "print(\"Region 1 RMSE:\", mean_squared_error(region1['actual'], region1['predicted']) ** 0.5)\n",
    "print(\"Region 2 RMSE:\", mean_squared_error(region2['actual'], region2['predicted']) ** 0.5)\n",
    "print(\"Region 3 RMSE:\", mean_squared_error(region3['actual'], region3['predicted']) ** 0.5)"
   ]
  },
  {
   "cell_type": "markdown",
   "metadata": {},
   "source": [
    "###  Analyze the results"
   ]
  },
  {
   "cell_type": "markdown",
   "metadata": {},
   "source": [
    ">In this section I split the data into training and validation sets with a 75/25 split. I then trained the model and made predictions using the validation set (for each region). After, I created dataframes containing actual data and the predictions made for each region. To conclude, I calculated the avg volume of predicted reserves for each region and found the RMSE score. Region 2 has a low score for 0.89, meaning the model's predictions and the actual values were similar."
   ]
  },
  {
   "cell_type": "markdown",
   "metadata": {},
   "source": [
    "## Profit Calculation"
   ]
  },
  {
   "cell_type": "markdown",
   "metadata": {},
   "source": [
    "### Store all key values for calculations in separate variables."
   ]
  },
  {
   "cell_type": "code",
   "execution_count": 9,
   "metadata": {},
   "outputs": [
    {
     "name": "stdout",
     "output_type": "stream",
     "text": [
      "Volume of reserves sufficient for developing a new well without losses: 111.11111111111111 thousand barrels\n"
     ]
    }
   ],
   "source": [
    "well_budget = 500000 #100 million / 200 = 500000 USD\n",
    "volume_profit = 4500 # given\n",
    "\n",
    "#volume needed for developing a new well without losses\n",
    "volume = well_budget / volume_profit\n",
    "print(\"Volume of reserves sufficient for developing a new well without losses:\", volume, \"thousand barrels\")"
   ]
  },
  {
   "cell_type": "markdown",
   "metadata": {},
   "source": [
    "### Calculate the volume of reserves sufficient for developing a new well without losses. Compare the obtained value with the average volume of reserves in each region."
   ]
  },
  {
   "cell_type": "code",
   "execution_count": 10,
   "metadata": {},
   "outputs": [
    {
     "name": "stdout",
     "output_type": "stream",
     "text": [
      "Avg volume in Region 1: 92.07859674082927\n",
      "Avg volume in Region 2: 68.72313602435997\n",
      "Avg volume in Region 3: 94.88423280885438\n"
     ]
    }
   ],
   "source": [
    "# Compare the obtained value with the average volume of reserves in each region.\n",
    "print(\"Avg volume in Region 1:\", region1['actual'].mean())\n",
    "print(\"Avg volume in Region 2:\", region2['actual'].mean())\n",
    "print(\"Avg volume in Region 3:\", region3['actual'].mean())"
   ]
  },
  {
   "cell_type": "markdown",
   "metadata": {},
   "source": [
    ">To prepare for profit calculation, I needed to find the avg volume of the wells in each region as it would reveal the point in which new wells could be developed without loss. The total budget given to me was 100 million dollars. If I divde that by the 200 new wells, the budget comes out to 500000 dollars per well. <br> To get the max amount of volume needed for a well (without loss), I divided the budget per well by the profit: 500000 / 4500 = 111 thousand barrels needed. To see which Region would be best to develop, the average volume of reserves (for each region) is needed. After calculating this value, it seems all regions fall below the threshold of 111 thousand barrels and could be profitable."
   ]
  },
  {
   "cell_type": "markdown",
   "metadata": {},
   "source": [
    "## Function to Calculate Profit from Selected Wells"
   ]
  },
  {
   "cell_type": "markdown",
   "metadata": {},
   "source": [
    "### Pick the wells with the highest values of predictions."
   ]
  },
  {
   "cell_type": "code",
   "execution_count": 11,
   "metadata": {},
   "outputs": [],
   "source": [
    "r1_500 = region1.sample(n=500)\n",
    "r2_500 = region2.sample(n=500)\n",
    "r3_500 = region3.sample(n=500)"
   ]
  },
  {
   "cell_type": "markdown",
   "metadata": {},
   "source": [
    "###  Summarize the target volume of reserves in accordance with these predictions"
   ]
  },
  {
   "cell_type": "code",
   "execution_count": 12,
   "metadata": {},
   "outputs": [
    {
     "name": "stdout",
     "output_type": "stream",
     "text": [
      "Region 1:\n",
      "Actual average volume of reserves for 500 randomly selected wells: 91.70918760060347\n",
      "Predicted average volume of reserves for 500 randomly selected wells: 92.77542758507296\n",
      "Region 2:\n",
      "Actual average volume of reserves for 500 randomly selected wells: 69.55600008354565\n",
      "Predicted average volume of reserves for 500 randomly selected wells: 69.56744587910397\n",
      "Region 3:\n",
      "Actual average volume of reserves for 500 randomly selected wells: 95.00159223700152\n",
      "Predicted average volume of reserves for 500 randomly selected wells: 95.70699529335216\n"
     ]
    }
   ],
   "source": [
    "print(\"Region 1:\")\n",
    "print(\"Actual average volume of reserves for 500 randomly selected wells:\", r1_500['actual'].mean())\n",
    "print(\"Predicted average volume of reserves for 500 randomly selected wells:\", r1_500['predicted'].mean())\n",
    "\n",
    "print(\"Region 2:\")\n",
    "print(\"Actual average volume of reserves for 500 randomly selected wells:\", r2_500['actual'].mean())\n",
    "print(\"Predicted average volume of reserves for 500 randomly selected wells:\", r2_500['predicted'].mean())\n",
    "\n",
    "print(\"Region 3:\")\n",
    "print(\"Actual average volume of reserves for 500 randomly selected wells:\", r3_500['actual'].mean())\n",
    "print(\"Predicted average volume of reserves for 500 randomly selected wells:\", r3_500['predicted'].mean())\n"
   ]
  },
  {
   "cell_type": "markdown",
   "metadata": {},
   "source": [
    "### Provide findings: suggest a region for oil wells' development and justify the choice. Calculate the profit for the obtained volume of reserves."
   ]
  },
  {
   "cell_type": "markdown",
   "metadata": {},
   "source": [
    "Region 3 looks to have the most volume so we suggest it for the oil wells' development."
   ]
  },
  {
   "cell_type": "code",
   "execution_count": 13,
   "metadata": {},
   "outputs": [
    {
     "name": "stdout",
     "output_type": "stream",
     "text": [
      "Region 3's profit of top 200 wells: 4267979.914324656\n"
     ]
    }
   ],
   "source": [
    "# calculating profit\n",
    "def calc_prof(region):\n",
    "    prof = region.sort_values(by = 'predicted', ascending = False)[:200]\n",
    "    return prof['actual'].sum() * 4500 - 100000000\n",
    "print(\"Region 3's profit of top 200 wells:\", calc_prof(r3_500))"
   ]
  },
  {
   "cell_type": "markdown",
   "metadata": {},
   "source": [
    "## Calculate risks and profit for each region:"
   ]
  },
  {
   "cell_type": "markdown",
   "metadata": {},
   "source": [
    "### Use the bootstrapping technique with 1000 samples to find the distribution of profit."
   ]
  },
  {
   "cell_type": "code",
   "execution_count": 14,
   "metadata": {},
   "outputs": [],
   "source": [
    "state = np.random.RandomState(12345)\n",
    "\n",
    "# region 1\n",
    "values_1=[]\n",
    "for i in range(1000):\n",
    "    target_subsample = region1.sample(n=500, replace=True, random_state = state)\n",
    "    values_1.append(calc_prof(target_subsample))\n",
    "values_1 = pd.Series(values_1)\n",
    "\n",
    "# region 2\n",
    "values_2=[]\n",
    "for i in range(1000):\n",
    "    target_subsample = region2.sample(n=500, replace=True, random_state = state)\n",
    "    values_2.append(calc_prof(target_subsample))\n",
    "values_2 = pd.Series(values_2)\n",
    "\n",
    "# region 3\n",
    "values_3=[]\n",
    "for i in range(1000):\n",
    "    target_subsample = region3.sample(n=500, replace=True, random_state = state)\n",
    "    values_3.append(calc_prof(target_subsample))\n",
    "values_3 = pd.Series(values_3)"
   ]
  },
  {
   "cell_type": "markdown",
   "metadata": {},
   "source": [
    "### Find average profit, 95% confidence interval and risk of losses. Loss is negative profit, calculate it as a probability and then express as a percentage."
   ]
  },
  {
   "cell_type": "code",
   "execution_count": 15,
   "metadata": {},
   "outputs": [
    {
     "name": "stdout",
     "output_type": "stream",
     "text": [
      "Region 1:\n",
      "Average profit: 3961649.8480237112\n",
      "95% confidence interval: -1112155.4589049604 , 9097669.415534232\n",
      "\n",
      "Region 2:\n",
      "Average profit: 4611558.172772396\n",
      "95% confidence interval: 780508.107517418 , 8629520.602637231\n",
      "\n",
      "Region 3:\n",
      "Average profit: 3929504.751706045\n",
      "95% confidence interval: -1122276.2537857532 , 9345629.145511637\n"
     ]
    }
   ],
   "source": [
    "print(\"Region 1:\")\n",
    "print(\"Average profit:\", values_1.mean())\n",
    "print(\"95% confidence interval:\", values_1.quantile(0.025), \",\", values_1.quantile(.975))\n",
    "print(\"\")\n",
    "print(\"Region 2:\")\n",
    "print(\"Average profit:\", values_2.mean())\n",
    "print(\"95% confidence interval:\", values_2.quantile(0.025), \",\", values_2.quantile(.975))\n",
    "print(\"\")\n",
    "print(\"Region 3:\")\n",
    "print(\"Average profit:\", values_3.mean())\n",
    "print(\"95% confidence interval:\", values_3.quantile(0.025), \",\", values_3.quantile(.975))"
   ]
  },
  {
   "cell_type": "code",
   "execution_count": 16,
   "metadata": {
    "scrolled": true
   },
   "outputs": [
    {
     "data": {
      "text/plain": [
       "<matplotlib.legend.Legend at 0x7fc0ec459090>"
      ]
     },
     "execution_count": 16,
     "metadata": {},
     "output_type": "execute_result"
    },
    {
     "data": {
      "image/png": "[encoded data removed]",
      "text/plain": [
       "<Figure size 432x288 with 1 Axes>"
      ]
     },
     "metadata": {
      "needs_background": "light"
     },
     "output_type": "display_data"
    }
   ],
   "source": [
    "# calculating loss\n",
    "# region 1\n",
    "values_1.hist(bins=100)\n",
    "values_1.quantile(0.069) # 7% risk of loss as profit is negative.\n",
    "\n",
    "# region 2\n",
    "values_2.hist(bins=100)\n",
    "values_2.quantile(0.0066) # 0.66% risk of loss as profit is negative.\n",
    "\n",
    "# region 3\n",
    "values_3.hist(bins=100)\n",
    "values_3.quantile(0.065) # 6.5% risk\n",
    "\n",
    "plt.title('Risk and Loss')\n",
    "plt.xlabel('Loss')\n",
    "plt.ylabel('Risk')\n",
    "plt.legend([\"Region 1\", \"Region 2\", \"Region 3\"])"
   ]
  },
  {
   "cell_type": "markdown",
   "metadata": {},
   "source": [
    "### Provide findings: suggest a region for development of oil wells and justify the choice."
   ]
  },
  {
   "cell_type": "markdown",
   "metadata": {},
   "source": [
    "Based on this information, region 3 is the region with the highest average profit and should be selected. Evidence supporting this claim is the region 3 avg volume of predicted reserves was the highest at 94.96504596800489, the RMSE 40.02970873393434 also the highest, avg volume in Region 3: 94.88423280885438 (the highest), and the avg volume of 500 randomly selected wells in region 3 was the highest."
   ]
  }
 ],
 "metadata": {
  "kernelspec": {
   "display_name": "Python 3",
   "language": "python",
   "name": "python3"
  },
  "language_info": {
   "codemirror_mode": {
    "name": "ipython",
    "version": 3
   },
   "file_extension": ".py",
   "mimetype": "text/x-python",
   "name": "python",
   "nbconvert_exporter": "python",
   "pygments_lexer": "ipython3",
   "version": "3.7.8"
  },
  "toc": {
   "base_numbering": 1,
   "nav_menu": {},
   "number_sections": true,
   "sideBar": true,
   "skip_h1_title": true,
   "title_cell": "Table of Contents",
   "title_sidebar": "Contents",
   "toc_cell": false,
   "toc_position": {},
   "toc_section_display": true,
   "toc_window_display": false
  }
 },
 "nbformat": 4,
 "nbformat_minor": 2
}
