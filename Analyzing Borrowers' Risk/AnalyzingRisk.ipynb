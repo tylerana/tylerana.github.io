{
 "cells": [
  {
   "cell_type": "markdown",
   "metadata": {},
   "source": [
    "## Analyzing borrowers’ risk of defaulting\n",
    "\n",
    "Your project is to prepare a report for a bank’s loan division. You’ll need to find out if a customer’s marital status and number of children has an impact on whether they will default on a loan. The bank already has some data on customers’ credit worthiness.\n",
    "\n",
    "Your report will be considered when building a **credit scoring** of a potential customer. A ** credit scoring ** is used to evaluate the ability of a potential borrower to repay their loan."
   ]
  },
  {
   "cell_type": "markdown",
   "metadata": {},
   "source": [
    "### 1. Open the data file and have a look at the general information. "
   ]
  },
  {
   "cell_type": "code",
   "execution_count": 2,
   "metadata": {},
   "outputs": [
    {
     "name": "stdout",
     "output_type": "stream",
     "text": [
      "<class 'pandas.core.frame.DataFrame'>\n",
      "RangeIndex: 21525 entries, 0 to 21524\n",
      "Data columns (total 12 columns):\n",
      "children            21525 non-null int64\n",
      "days_employed       19351 non-null float64\n",
      "dob_years           21525 non-null int64\n",
      "education           21525 non-null object\n",
      "education_id        21525 non-null int64\n",
      "family_status       21525 non-null object\n",
      "family_status_id    21525 non-null int64\n",
      "gender              21525 non-null object\n",
      "income_type         21525 non-null object\n",
      "debt                21525 non-null int64\n",
      "total_income        19351 non-null float64\n",
      "purpose             21525 non-null object\n",
      "dtypes: float64(2), int64(5), object(5)\n",
      "memory usage: 2.0+ MB\n"
     ]
    }
   ],
   "source": [
    "import pandas as pd\n",
    "df = pd.read_csv('/datasets/credit_scoring_eng.csv')\n",
    "pd.set_option('display.max_row',100)\n",
    "df.info()\n",
    "\n",
    "\n",
    "# the days_employed are negative\n",
    "# there exists NaN values"
   ]
  },
  {
   "cell_type": "markdown",
   "metadata": {},
   "source": [
    "### Conclusion"
   ]
  },
  {
   "cell_type": "markdown",
   "metadata": {},
   "source": [
    "On first glace I noticed:\n",
    "\n",
    "-days employed are negative\n",
    "\n",
    "-there exists NaN values in the days_employed and total_income columns. It would be safe to say that the two columns are correlated because one cannot calculate total_income without days employed. The reason for the missing values could be human error. Maybe the employees are new hires so data does not exist as of yet.\n",
    "\n",
    "-education needs to be lowercase\n",
    "-purpose might need to be grouped together?"
   ]
  },
  {
   "cell_type": "markdown",
   "metadata": {},
   "source": [
    "### 2. Data preprocessing"
   ]
  },
  {
   "cell_type": "markdown",
   "metadata": {},
   "source": [
    "### Processing missing values"
   ]
  },
  {
   "cell_type": "code",
   "execution_count": 3,
   "metadata": {},
   "outputs": [
    {
     "name": "stdout",
     "output_type": "stream",
     "text": [
      "======= Amount Missing =======\n",
      "children               0\n",
      "days_employed       2174\n",
      "dob_years              0\n",
      "education              0\n",
      "education_id           0\n",
      "family_status          0\n",
      "family_status_id       0\n",
      "gender                 0\n",
      "income_type            0\n",
      "debt                   0\n",
      "dtype: int64\n",
      "======= Percent Missing =======\n",
      "days_employed    10.099884\n",
      "total_income     10.099884\n",
      "dtype: float64\n"
     ]
    }
   ],
   "source": [
    "#Finding out sum & percentage of missing values in each feature.\n",
    "print(\"======= Amount Missing =======\")\n",
    "missing_values_count = df.isnull().sum()\n",
    "print(missing_values_count[0:10])\n",
    "print(\"======= Percent Missing =======\")\n",
    "null = (df.isna().sum()/len(df)) * 100\n",
    "print(null[null>0].sort_values())\n",
    "\n",
    "df.isnull().sum()\n",
    "df.dropna(inplace=True)\n"
   ]
  },
  {
   "cell_type": "markdown",
   "metadata": {},
   "source": [
    "### Conclusion"
   ]
  },
  {
   "cell_type": "markdown",
   "metadata": {},
   "source": [
    "We drop the missing values because we do not have the data to fill them in. Filling in n/a with the mean value would be wrong. We could have also replaced the n/a values with 0. 2174 lines were dropped in days_employed and total_income.\n",
    "\n"
   ]
  },
  {
   "cell_type": "markdown",
   "metadata": {},
   "source": [
    "### Data type replacement"
   ]
  },
  {
   "cell_type": "code",
   "execution_count": 4,
   "metadata": {
    "scrolled": true
   },
   "outputs": [
    {
     "data": {
      "text/html": [
       "<div>\n",
       "<style scoped>\n",
       "    .dataframe tbody tr th:only-of-type {\n",
       "        vertical-align: middle;\n",
       "    }\n",
       "\n",
       "    .dataframe tbody tr th {\n",
       "        vertical-align: top;\n",
       "    }\n",
       "\n",
       "    .dataframe thead th {\n",
       "        text-align: right;\n",
       "    }\n",
       "</style>\n",
       "<table border=\"1\" class=\"dataframe\">\n",
       "  <thead>\n",
       "    <tr style=\"text-align: right;\">\n",
       "      <th></th>\n",
       "      <th>children</th>\n",
       "      <th>days_employed</th>\n",
       "      <th>dob_years</th>\n",
       "      <th>education</th>\n",
       "      <th>education_id</th>\n",
       "      <th>family_status</th>\n",
       "      <th>family_status_id</th>\n",
       "      <th>gender</th>\n",
       "      <th>income_type</th>\n",
       "      <th>debt</th>\n",
       "      <th>total_income</th>\n",
       "      <th>purpose</th>\n",
       "    </tr>\n",
       "  </thead>\n",
       "  <tbody>\n",
       "    <tr>\n",
       "      <td>0</td>\n",
       "      <td>1</td>\n",
       "      <td>8437</td>\n",
       "      <td>42</td>\n",
       "      <td>bachelor's degree</td>\n",
       "      <td>0</td>\n",
       "      <td>married</td>\n",
       "      <td>0</td>\n",
       "      <td>F</td>\n",
       "      <td>employee</td>\n",
       "      <td>0</td>\n",
       "      <td>40620</td>\n",
       "      <td>purchase of the house</td>\n",
       "    </tr>\n",
       "    <tr>\n",
       "      <td>1</td>\n",
       "      <td>1</td>\n",
       "      <td>4024</td>\n",
       "      <td>36</td>\n",
       "      <td>secondary education</td>\n",
       "      <td>1</td>\n",
       "      <td>married</td>\n",
       "      <td>0</td>\n",
       "      <td>F</td>\n",
       "      <td>employee</td>\n",
       "      <td>0</td>\n",
       "      <td>17932</td>\n",
       "      <td>car purchase</td>\n",
       "    </tr>\n",
       "    <tr>\n",
       "      <td>2</td>\n",
       "      <td>0</td>\n",
       "      <td>5623</td>\n",
       "      <td>33</td>\n",
       "      <td>secondary education</td>\n",
       "      <td>1</td>\n",
       "      <td>married</td>\n",
       "      <td>0</td>\n",
       "      <td>M</td>\n",
       "      <td>employee</td>\n",
       "      <td>0</td>\n",
       "      <td>23341</td>\n",
       "      <td>purchase of the house</td>\n",
       "    </tr>\n",
       "    <tr>\n",
       "      <td>3</td>\n",
       "      <td>3</td>\n",
       "      <td>4124</td>\n",
       "      <td>32</td>\n",
       "      <td>secondary education</td>\n",
       "      <td>1</td>\n",
       "      <td>married</td>\n",
       "      <td>0</td>\n",
       "      <td>M</td>\n",
       "      <td>employee</td>\n",
       "      <td>0</td>\n",
       "      <td>42820</td>\n",
       "      <td>supplementary education</td>\n",
       "    </tr>\n",
       "    <tr>\n",
       "      <td>4</td>\n",
       "      <td>0</td>\n",
       "      <td>340266</td>\n",
       "      <td>53</td>\n",
       "      <td>secondary education</td>\n",
       "      <td>1</td>\n",
       "      <td>civil partnership</td>\n",
       "      <td>1</td>\n",
       "      <td>F</td>\n",
       "      <td>retiree</td>\n",
       "      <td>0</td>\n",
       "      <td>25378</td>\n",
       "      <td>to have a wedding</td>\n",
       "    </tr>\n",
       "    <tr>\n",
       "      <td>...</td>\n",
       "      <td>...</td>\n",
       "      <td>...</td>\n",
       "      <td>...</td>\n",
       "      <td>...</td>\n",
       "      <td>...</td>\n",
       "      <td>...</td>\n",
       "      <td>...</td>\n",
       "      <td>...</td>\n",
       "      <td>...</td>\n",
       "      <td>...</td>\n",
       "      <td>...</td>\n",
       "      <td>...</td>\n",
       "    </tr>\n",
       "    <tr>\n",
       "      <td>21520</td>\n",
       "      <td>1</td>\n",
       "      <td>4529</td>\n",
       "      <td>43</td>\n",
       "      <td>secondary education</td>\n",
       "      <td>1</td>\n",
       "      <td>civil partnership</td>\n",
       "      <td>1</td>\n",
       "      <td>F</td>\n",
       "      <td>business</td>\n",
       "      <td>0</td>\n",
       "      <td>35966</td>\n",
       "      <td>housing transactions</td>\n",
       "    </tr>\n",
       "    <tr>\n",
       "      <td>21521</td>\n",
       "      <td>0</td>\n",
       "      <td>343937</td>\n",
       "      <td>67</td>\n",
       "      <td>secondary education</td>\n",
       "      <td>1</td>\n",
       "      <td>married</td>\n",
       "      <td>0</td>\n",
       "      <td>F</td>\n",
       "      <td>retiree</td>\n",
       "      <td>0</td>\n",
       "      <td>24959</td>\n",
       "      <td>purchase of a car</td>\n",
       "    </tr>\n",
       "    <tr>\n",
       "      <td>21522</td>\n",
       "      <td>1</td>\n",
       "      <td>2113</td>\n",
       "      <td>38</td>\n",
       "      <td>secondary education</td>\n",
       "      <td>1</td>\n",
       "      <td>civil partnership</td>\n",
       "      <td>1</td>\n",
       "      <td>M</td>\n",
       "      <td>employee</td>\n",
       "      <td>1</td>\n",
       "      <td>14347</td>\n",
       "      <td>property</td>\n",
       "    </tr>\n",
       "    <tr>\n",
       "      <td>21523</td>\n",
       "      <td>3</td>\n",
       "      <td>3112</td>\n",
       "      <td>38</td>\n",
       "      <td>secondary education</td>\n",
       "      <td>1</td>\n",
       "      <td>married</td>\n",
       "      <td>0</td>\n",
       "      <td>M</td>\n",
       "      <td>employee</td>\n",
       "      <td>1</td>\n",
       "      <td>39054</td>\n",
       "      <td>buying my own car</td>\n",
       "    </tr>\n",
       "    <tr>\n",
       "      <td>21524</td>\n",
       "      <td>2</td>\n",
       "      <td>1984</td>\n",
       "      <td>40</td>\n",
       "      <td>secondary education</td>\n",
       "      <td>1</td>\n",
       "      <td>married</td>\n",
       "      <td>0</td>\n",
       "      <td>F</td>\n",
       "      <td>employee</td>\n",
       "      <td>0</td>\n",
       "      <td>13127</td>\n",
       "      <td>to buy a car</td>\n",
       "    </tr>\n",
       "  </tbody>\n",
       "</table>\n",
       "<p>19351 rows × 12 columns</p>\n",
       "</div>"
      ],
      "text/plain": [
       "       children  days_employed  dob_years            education  education_id  \\\n",
       "0             1           8437         42    bachelor's degree             0   \n",
       "1             1           4024         36  secondary education             1   \n",
       "2             0           5623         33  secondary education             1   \n",
       "3             3           4124         32  secondary education             1   \n",
       "4             0         340266         53  secondary education             1   \n",
       "...         ...            ...        ...                  ...           ...   \n",
       "21520         1           4529         43  secondary education             1   \n",
       "21521         0         343937         67  secondary education             1   \n",
       "21522         1           2113         38  secondary education             1   \n",
       "21523         3           3112         38  secondary education             1   \n",
       "21524         2           1984         40  secondary education             1   \n",
       "\n",
       "           family_status  family_status_id gender income_type  debt  \\\n",
       "0                married                 0      F    employee     0   \n",
       "1                married                 0      F    employee     0   \n",
       "2                married                 0      M    employee     0   \n",
       "3                married                 0      M    employee     0   \n",
       "4      civil partnership                 1      F     retiree     0   \n",
       "...                  ...               ...    ...         ...   ...   \n",
       "21520  civil partnership                 1      F    business     0   \n",
       "21521            married                 0      F     retiree     0   \n",
       "21522  civil partnership                 1      M    employee     1   \n",
       "21523            married                 0      M    employee     1   \n",
       "21524            married                 0      F    employee     0   \n",
       "\n",
       "       total_income                  purpose  \n",
       "0             40620    purchase of the house  \n",
       "1             17932             car purchase  \n",
       "2             23341    purchase of the house  \n",
       "3             42820  supplementary education  \n",
       "4             25378        to have a wedding  \n",
       "...             ...                      ...  \n",
       "21520         35966     housing transactions  \n",
       "21521         24959        purchase of a car  \n",
       "21522         14347                 property  \n",
       "21523         39054        buying my own car  \n",
       "21524         13127             to buy a car  \n",
       "\n",
       "[19351 rows x 12 columns]"
      ]
     },
     "execution_count": 4,
     "metadata": {},
     "output_type": "execute_result"
    }
   ],
   "source": [
    "df['days_employed'] = df['days_employed'].astype(int)\n",
    "df['days_employed'] = df['days_employed'].abs()\n",
    "df['total_income'] = df['total_income'].astype(int)\n",
    "df['education'] = df['education'].str.lower()\n",
    "df['purpose'] = df['purpose'].str.lower()\n",
    "df['family_status'] = df['family_status'].str.lower()\n",
    "df['income_type'] = df['income_type'].str.lower()\n",
    "df\n",
    "\n"
   ]
  },
  {
   "cell_type": "markdown",
   "metadata": {},
   "source": [
    "### Conclusion"
   ]
  },
  {
   "cell_type": "markdown",
   "metadata": {},
   "source": [
    "-days employed is now int instead of float, the absolute value was taken to get positive numbers\n",
    "-total income was changed to int instead of float because the cents don't really matter\n",
    "-education was changed to lower to make categorization easier"
   ]
  },
  {
   "cell_type": "markdown",
   "metadata": {},
   "source": [
    "### Processing duplicates"
   ]
  },
  {
   "cell_type": "code",
   "execution_count": 5,
   "metadata": {},
   "outputs": [
    {
     "name": "stdout",
     "output_type": "stream",
     "text": [
      "children             int64\n",
      "days_employed        int64\n",
      "dob_years            int64\n",
      "education           object\n",
      "education_id         int64\n",
      "family_status       object\n",
      "family_status_id     int64\n",
      "gender              object\n",
      "income_type         object\n",
      "debt                 int64\n",
      "total_income         int64\n",
      "purpose             object\n",
      "dtype: object\n"
     ]
    }
   ],
   "source": [
    "df2 = df.duplicated().sum()\n",
    "df.drop_duplicates().reset_index(drop=True)\n",
    "print(df.dtypes)"
   ]
  },
  {
   "cell_type": "markdown",
   "metadata": {},
   "source": [
    "### Conclusion"
   ]
  },
  {
   "cell_type": "markdown",
   "metadata": {},
   "source": [
    "Duplicates if they existed are now dropped from the DataFrame using the drop_duplicates method. The drop_duplicates method was used with the argument \"inplace=True\" because we want the changes to be made on the original DataFrame. \n",
    "df2 = df.duplicated().sum() shows that there are 0 lines in the DataFrame that are duplicated. No lines were deleted."
   ]
  },
  {
   "cell_type": "markdown",
   "metadata": {},
   "source": [
    "### Categorizing Data"
   ]
  },
  {
   "cell_type": "code",
   "execution_count": 6,
   "metadata": {},
   "outputs": [
    {
     "data": {
      "text/plain": [
       "19351"
      ]
     },
     "execution_count": 6,
     "metadata": {},
     "output_type": "execute_result"
    }
   ],
   "source": [
    "#correlation between having children and repaying a loan on time\n",
    "\n",
    "\n",
    "def income_level(row):\n",
    "    income = int(row['total_income'])\n",
    "    \n",
    "    if income < 20000:\n",
    "        return 'Poverty'\n",
    "    elif 20000 <= income <= 44000:\n",
    "        return 'Low Income'\n",
    "    elif 45000 <= income <= 139000:\n",
    "        return 'Middle Class'\n",
    "    elif 140000 <= income <= 149000:\n",
    "        return 'Upper Middle Class'\n",
    "    elif 150000 <= income <= 199999:\n",
    "        return 'High Income'\n",
    "    else:\n",
    "        if income >= 200000:\n",
    "            return 'Highest Tax Bracket'\n",
    "\n",
    "row_values = ['1500000']\n",
    "row = pd.Series(data=row_values, index=['total_income'])\n",
    "\n",
    "income_level(row)\n",
    "\n",
    "df['income_level'] = df.apply(income_level, axis=1)\n",
    "\n",
    "\n",
    "def have_kids(new_row):\n",
    "    kids = int(new_row['children'])\n",
    "    if kids > 0:\n",
    "        return '1'\n",
    "    else:\n",
    "        return '0'\n",
    "new_row_values = ['0']\n",
    "new_row = pd.Series(data=new_row_values, index=['children'])\n",
    "\n",
    "have_kids(new_row)\n",
    "df['have_kids'] = df.apply(have_kids, axis=1)\n",
    "\n",
    "# Creating Pivot Tables\n",
    "\n",
    "df['kids_ratio'] = df['children']/df['children'].sum()\n",
    "#df.pivot_table(index=['have_kids', 'kids_ratio'], values='debt')\n",
    "df['kids_ratio'].count()\n",
    "\n",
    "#df.pivot_table(index='family_status', values='debt')\n",
    "\n",
    "#df.pivot_table(index='income_level', values='debt')\n",
    "#df['income_level'].value_counts()"
   ]
  },
  {
   "cell_type": "markdown",
   "metadata": {},
   "source": [
    "### Conclusion"
   ]
  },
  {
   "cell_type": "markdown",
   "metadata": {},
   "source": [
    "a correlation exists between the amount of children one has and the ability to repay a loan. There also exists a correlation between family status and the ability to repay a loan.\n",
    "\n",
    "\n"
   ]
  },
  {
   "cell_type": "markdown",
   "metadata": {},
   "source": [
    "### Step 3. Answer these questions"
   ]
  },
  {
   "cell_type": "markdown",
   "metadata": {},
   "source": [
    "- Is there a relation between having kids and repaying a loan on time?"
   ]
  },
  {
   "cell_type": "code",
   "execution_count": 7,
   "metadata": {},
   "outputs": [
    {
     "name": "stdout",
     "output_type": "stream",
     "text": [
      "The rate for all loans is: 0.0811844349129244 %\n",
      "0.02135295137788271\n"
     ]
    },
    {
     "data": {
      "text/plain": [
       "children\n",
       "0      7.472166\n",
       "1      9.394428\n",
       "2      9.562399\n",
       "3      7.482993\n",
       "4      8.823529\n",
       "5      0.000000\n",
       "20    11.940299\n",
       "Name: mean, dtype: float64"
      ]
     },
     "execution_count": 7,
     "metadata": {},
     "output_type": "execute_result"
    }
   ],
   "source": [
    "rate = df['debt'].sum() / df.shape[0] #rate for all loans\n",
    "print(\"The rate for all loans is:\", rate,\"%\")\n",
    "print(df['children'].corr(df['debt']))\n",
    "\n",
    "\n",
    "#noticed a negative value for children\n",
    "df['children'] = df['children'].replace([-1], 0) #replaces -1 w/ 0\n",
    "df.groupby(['children'])['debt'].agg(['mean'])['mean']*100\n",
    "\n",
    "# 20 children seems a little outrageous .. could be an error"
   ]
  },
  {
   "cell_type": "markdown",
   "metadata": {},
   "source": [
    "There does not seem to be a relation between having children and defaulting on loans. There does exist an outlier in the data set."
   ]
  },
  {
   "cell_type": "markdown",
   "metadata": {},
   "source": [
    "### Conclusion"
   ]
  },
  {
   "cell_type": "markdown",
   "metadata": {},
   "source": []
  },
  {
   "cell_type": "markdown",
   "metadata": {},
   "source": [
    "- Is there a relation between marital status and repaying a loan on time?"
   ]
  },
  {
   "cell_type": "code",
   "execution_count": 8,
   "metadata": {},
   "outputs": [
    {
     "data": {
      "text/plain": [
       "family_status\n",
       "civil partnership     9.076305\n",
       "divorced              7.017544\n",
       "married               7.592210\n",
       "unmarried            10.059406\n",
       "widow / widower       6.473988\n",
       "Name: mean, dtype: float64"
      ]
     },
     "execution_count": 8,
     "metadata": {},
     "output_type": "execute_result"
    }
   ],
   "source": [
    "df.groupby(['family_status'])['debt'].agg(['mean'])['mean']*100"
   ]
  },
  {
   "cell_type": "markdown",
   "metadata": {},
   "source": [
    "results show that unmarried customers and customers in a civil partnership default more on loans."
   ]
  },
  {
   "cell_type": "markdown",
   "metadata": {},
   "source": [
    "### Conclusion"
   ]
  },
  {
   "cell_type": "markdown",
   "metadata": {},
   "source": []
  },
  {
   "cell_type": "markdown",
   "metadata": {},
   "source": [
    "- Is there a relation between income level and repaying a loan on time?"
   ]
  },
  {
   "cell_type": "code",
   "execution_count": 9,
   "metadata": {},
   "outputs": [
    {
     "name": "stdout",
     "output_type": "stream",
     "text": [
      "count     19351.000000\n",
      "mean      26787.071262\n",
      "std       16475.452412\n",
      "min        3306.000000\n",
      "25%       16488.000000\n",
      "50%       23202.000000\n",
      "75%       32549.500000\n",
      "max      362496.000000\n",
      "Name: total_income, dtype: float64\n",
      "==============================\n",
      "income_level\n",
      "High Income            5.882353\n",
      "Highest Tax Bracket    9.090909\n",
      "Low Income             8.239663\n",
      "Middle Class           7.111597\n",
      "Poverty                8.250780\n",
      "Upper Middle Class     0.000000\n",
      "Name: mean, dtype: float64\n"
     ]
    }
   ],
   "source": [
    "print(df['total_income'].describe())\n",
    "print(\"==============================\")\n",
    "print(df.groupby(['income_level'])['debt'].agg(['mean'])['mean']*100)"
   ]
  },
  {
   "cell_type": "markdown",
   "metadata": {},
   "source": [
    "The high income bracket has defaulted less on loans than the highest income tax bracket. Low Income and Poverty are about the same.\n",
    "Having the highest tax bracket be the highest defaulter of loans seems a bit weird."
   ]
  },
  {
   "cell_type": "markdown",
   "metadata": {},
   "source": [
    "### Conclusion"
   ]
  },
  {
   "cell_type": "markdown",
   "metadata": {},
   "source": []
  },
  {
   "cell_type": "markdown",
   "metadata": {},
   "source": [
    "- How do different loan purposes affect on-time repayment of the loan?"
   ]
  },
  {
   "cell_type": "markdown",
   "metadata": {},
   "source": [
    "\"If the loan is for school or business, banks might not see a payment on the loan for a while. Versus if the loan is for a house, car, wedding, which are one time things, banks will see a payment after the event has happened\""
   ]
  },
  {
   "cell_type": "markdown",
   "metadata": {},
   "source": [
    "### Conclusion"
   ]
  },
  {
   "cell_type": "markdown",
   "metadata": {},
   "source": [
    "### Step 4. General conclusion"
   ]
  },
  {
   "cell_type": "markdown",
   "metadata": {},
   "source": [
    "Data categorization is used in data to organize data into categories so it is easy to retrieve/sort data.\n",
    "\n",
    "Using pivot tables and groupby, I was able to determine that there was no relation between having kids and defaulting on a loan. I was also able to determine that there was an outlier in the data which could have been human error. Using groupby I analyzed the relation between marital status and repaying a loan on time and income level and repaying a loan on time.\n",
    "\n",
    "Different loan purposes affect on-time repayment because as stated in the conclusion above, one-time events such as weddings or car/house purchases will start to see payment after the event; school/business not so much as the customer might need to take out another loan."
   ]
  }
 ],
 "metadata": {
  "kernelspec": {
   "display_name": "Python 3",
   "language": "python",
   "name": "python3"
  },
  "language_info": {
   "codemirror_mode": {
    "name": "ipython",
    "version": 3
   },
   "file_extension": ".py",
   "mimetype": "text/x-python",
   "name": "python",
   "nbconvert_exporter": "python",
   "pygments_lexer": "ipython3",
   "version": "3.7.8"
  },
  "toc": {
   "base_numbering": 1,
   "nav_menu": {},
   "number_sections": true,
   "sideBar": true,
   "skip_h1_title": true,
   "title_cell": "Table of Contents",
   "title_sidebar": "Contents",
   "toc_cell": false,
   "toc_position": {},
   "toc_section_display": true,
   "toc_window_display": false
  }
 },
 "nbformat": 4,
 "nbformat_minor": 2
}
