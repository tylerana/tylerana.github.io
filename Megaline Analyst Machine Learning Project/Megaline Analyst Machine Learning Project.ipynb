{
 "cells": [
  {
   "cell_type": "markdown",
   "metadata": {},
   "source": [
    "# Machine Learning Project"
   ]
  },
  {
   "cell_type": "markdown",
   "metadata": {},
   "source": [
    ">The goal of this project is to create a machine learning model to analyze megaline's clientel and recommend one of their new plans: Ultra or Smart. <br> <br> In the Statistical Data Analysis project, we completed <b> Step 1: Getting the data </b> and <b> Step 2: Clean, Prepare and Manipulate Data.</b> Now it is time to do <b>Step 3: Training the Model.</b>"
   ]
  },
  {
   "cell_type": "code",
   "execution_count": 2,
   "metadata": {},
   "outputs": [],
   "source": [
    "import pandas as pd\n",
    "import sys\n",
    "import warnings\n",
    "from sklearn.tree import DecisionTreeClassifier\n",
    "from sklearn.ensemble import RandomForestClassifier\n",
    "from sklearn.model_selection import train_test_split\n",
    "from sklearn.linear_model import LogisticRegression\n",
    "from sklearn.linear_model import LinearRegression\n",
    "from sklearn.tree import DecisionTreeRegressor\n",
    "from sklearn.ensemble import RandomForestRegressor\n",
    "from sklearn.metrics import mean_squared_error\n",
    "from sklearn.metrics import accuracy_score"
   ]
  },
  {
   "cell_type": "markdown",
   "metadata": {},
   "source": [
    "## 1. Viewing Data"
   ]
  },
  {
   "cell_type": "code",
   "execution_count": 3,
   "metadata": {},
   "outputs": [
    {
     "data": {
      "text/html": [
       "<div>\n",
       "<style scoped>\n",
       "    .dataframe tbody tr th:only-of-type {\n",
       "        vertical-align: middle;\n",
       "    }\n",
       "\n",
       "    .dataframe tbody tr th {\n",
       "        vertical-align: top;\n",
       "    }\n",
       "\n",
       "    .dataframe thead th {\n",
       "        text-align: right;\n",
       "    }\n",
       "</style>\n",
       "<table border=\"1\" class=\"dataframe\">\n",
       "  <thead>\n",
       "    <tr style=\"text-align: right;\">\n",
       "      <th></th>\n",
       "      <th>calls</th>\n",
       "      <th>minutes</th>\n",
       "      <th>messages</th>\n",
       "      <th>mb_used</th>\n",
       "      <th>is_ultra</th>\n",
       "    </tr>\n",
       "  </thead>\n",
       "  <tbody>\n",
       "    <tr>\n",
       "      <td>0</td>\n",
       "      <td>40.0</td>\n",
       "      <td>311.90</td>\n",
       "      <td>83.0</td>\n",
       "      <td>19915.42</td>\n",
       "      <td>0</td>\n",
       "    </tr>\n",
       "    <tr>\n",
       "      <td>1</td>\n",
       "      <td>85.0</td>\n",
       "      <td>516.75</td>\n",
       "      <td>56.0</td>\n",
       "      <td>22696.96</td>\n",
       "      <td>0</td>\n",
       "    </tr>\n",
       "    <tr>\n",
       "      <td>2</td>\n",
       "      <td>77.0</td>\n",
       "      <td>467.66</td>\n",
       "      <td>86.0</td>\n",
       "      <td>21060.45</td>\n",
       "      <td>0</td>\n",
       "    </tr>\n",
       "    <tr>\n",
       "      <td>3</td>\n",
       "      <td>106.0</td>\n",
       "      <td>745.53</td>\n",
       "      <td>81.0</td>\n",
       "      <td>8437.39</td>\n",
       "      <td>1</td>\n",
       "    </tr>\n",
       "    <tr>\n",
       "      <td>4</td>\n",
       "      <td>66.0</td>\n",
       "      <td>418.74</td>\n",
       "      <td>1.0</td>\n",
       "      <td>14502.75</td>\n",
       "      <td>0</td>\n",
       "    </tr>\n",
       "    <tr>\n",
       "      <td>5</td>\n",
       "      <td>58.0</td>\n",
       "      <td>344.56</td>\n",
       "      <td>21.0</td>\n",
       "      <td>15823.37</td>\n",
       "      <td>0</td>\n",
       "    </tr>\n",
       "    <tr>\n",
       "      <td>6</td>\n",
       "      <td>57.0</td>\n",
       "      <td>431.64</td>\n",
       "      <td>20.0</td>\n",
       "      <td>3738.90</td>\n",
       "      <td>1</td>\n",
       "    </tr>\n",
       "    <tr>\n",
       "      <td>7</td>\n",
       "      <td>15.0</td>\n",
       "      <td>132.40</td>\n",
       "      <td>6.0</td>\n",
       "      <td>21911.60</td>\n",
       "      <td>0</td>\n",
       "    </tr>\n",
       "    <tr>\n",
       "      <td>8</td>\n",
       "      <td>7.0</td>\n",
       "      <td>43.39</td>\n",
       "      <td>3.0</td>\n",
       "      <td>2538.67</td>\n",
       "      <td>1</td>\n",
       "    </tr>\n",
       "    <tr>\n",
       "      <td>9</td>\n",
       "      <td>90.0</td>\n",
       "      <td>665.41</td>\n",
       "      <td>38.0</td>\n",
       "      <td>17358.61</td>\n",
       "      <td>0</td>\n",
       "    </tr>\n",
       "  </tbody>\n",
       "</table>\n",
       "</div>"
      ],
      "text/plain": [
       "   calls  minutes  messages   mb_used  is_ultra\n",
       "0   40.0   311.90      83.0  19915.42         0\n",
       "1   85.0   516.75      56.0  22696.96         0\n",
       "2   77.0   467.66      86.0  21060.45         0\n",
       "3  106.0   745.53      81.0   8437.39         1\n",
       "4   66.0   418.74       1.0  14502.75         0\n",
       "5   58.0   344.56      21.0  15823.37         0\n",
       "6   57.0   431.64      20.0   3738.90         1\n",
       "7   15.0   132.40       6.0  21911.60         0\n",
       "8    7.0    43.39       3.0   2538.67         1\n",
       "9   90.0   665.41      38.0  17358.61         0"
      ]
     },
     "execution_count": 3,
     "metadata": {},
     "output_type": "execute_result"
    }
   ],
   "source": [
    "df = pd.read_csv('/datasets/users_behavior.csv')\n",
    "df.head(10)"
   ]
  },
  {
   "cell_type": "markdown",
   "metadata": {},
   "source": [
    "## 2. Spliting into test/train/validation set"
   ]
  },
  {
   "cell_type": "code",
   "execution_count": 4,
   "metadata": {},
   "outputs": [
    {
     "name": "stdout",
     "output_type": "stream",
     "text": [
      "trained features:\n",
      "      calls  minutes  messages   mb_used\n",
      "925    61.0   399.98      24.0  17553.71\n",
      "934    70.0   450.03      51.0  17567.13\n",
      "2081   76.0   535.01      20.0  12272.83\n",
      "2867   70.0   443.01       9.0  13834.84\n",
      "1171   49.0   344.92      17.0  23383.40\n",
      "\n",
      "trained targets:\n",
      "925     0\n",
      "934     0\n",
      "2081    0\n",
      "2867    0\n",
      "1171    0\n",
      "Name: is_ultra, dtype: int64\n"
     ]
    }
   ],
   "source": [
    "features = ['calls', 'minutes', 'messages', 'mb_used'] # inputting features\n",
    "target = ['is_ultra'] # target\n",
    "\n",
    "df_train, df_temp = train_test_split(df, test_size=0.4)\n",
    "df_test, df_valid = train_test_split(df_temp, test_size=0.5)\n",
    "\n",
    "features_train = df_train.drop(['is_ultra'], axis=1) # drop is_ultra so it doesn't count twice \n",
    "target_train = df_train['is_ultra'] # target\n",
    "\n",
    "features_valid = df_valid.drop(['is_ultra'], axis=1) # drop is_ultra so it doesn't count twice\n",
    "target_valid = df_valid['is_ultra'] # target\n",
    "\n",
    "features_test = df_test.drop(['is_ultra'], axis=1)\n",
    "target_test = df_test['is_ultra']\n",
    "\n",
    "print(\"trained features:\")\n",
    "print(features_train.head(5))\n",
    "print('')\n",
    "print(\"trained targets:\")\n",
    "print(target_train.head(5))"
   ]
  },
  {
   "cell_type": "markdown",
   "metadata": {},
   "source": [
    "### Conclusion"
   ]
  },
  {
   "cell_type": "markdown",
   "metadata": {},
   "source": [
    ">Since we are trying to recommend a new plan to megaline's clients, our target is ```is_ultra```. We call the rest of the columns features. We then split the data into two variables ```df_train``` and ```df_temp```. ```df_temp``` was created so it could be split again to make the ``df_test`` and ```df_valid``` variables. We then move on to train the model."
   ]
  },
  {
   "cell_type": "markdown",
   "metadata": {},
   "source": [
    "## 3. Fitting the data set and finding the best accuracy"
   ]
  },
  {
   "cell_type": "markdown",
   "metadata": {},
   "source": [
    "### Tuning Hyperparameters V1"
   ]
  },
  {
   "cell_type": "code",
   "execution_count": 50,
   "metadata": {},
   "outputs": [
    {
     "name": "stdout",
     "output_type": "stream",
     "text": [
      "Tuning Hyperparameters: Version 1\n",
      "Decision Tree Classifier Accuracy: 0.9610995850622407\n",
      "Random Forest Classifier Accuracy: 0.9813278008298755\n",
      "Logistic Regression Accuracy: 0.700207468879668\n",
      "\n",
      "Decision Tree Classifier Validation Accuracy\n",
      "Validation set: 0.7511664074650077\n",
      "RandomForest Classifier Validation Accuracy\n",
      "Validation set: 0.80248833592535\n",
      "Logistic Regression Validation Accuracy\n",
      "Validation set: 0.7247278382581649\n"
     ]
    },
    {
     "name": "stderr",
     "output_type": "stream",
     "text": [
      "/opt/conda/lib/python3.7/site-packages/sklearn/ensemble/forest.py:245: FutureWarning: The default value of n_estimators will change from 10 in version 0.20 to 100 in 0.22.\n",
      "  \"10 in version 0.20 to 100 in 0.22.\", FutureWarning)\n"
     ]
    }
   ],
   "source": [
    "dtc = DecisionTreeClassifier(random_state=0, max_depth=17, criterion='gini')\n",
    "dtc.fit(features_train, target_train)\n",
    "dtc_predictions1 = dtc.predict(features_train)\n",
    "\n",
    "rfc = RandomForestClassifier(max_depth=25, random_state=42, min_samples_split = 2, min_samples_leaf = 1)\n",
    "rfc.fit(features_train, target_train)\n",
    "rfc_predictions1 = rfc.predict(features_train)\n",
    "\n",
    "lr = LogisticRegression(random_state=12345, solver='liblinear')\n",
    "lr.fit(features_train, target_train)\n",
    "lr_predictions1 = lr.predict(features_train)\n",
    "\n",
    "print(\"Tuning Hyperparameters: Version 1\")\n",
    "print(\"Decision Tree Classifier Accuracy:\", accuracy_score(target_train, dtc_predictions1))\n",
    "print(\"Random Forest Classifier Accuracy:\", accuracy_score(target_train, rfc_predictions1))\n",
    "print(\"Logistic Regression Accuracy:\", accuracy_score(target_train, lr_predictions1))\n",
    "print(\"\")\n",
    "\n",
    "dtc_predictions_v = dtc.predict(features_valid)\n",
    "rfc_predictions_v = rfc.predict(features_valid)\n",
    "lr_predictions_v = lr.predict(features_valid)\n",
    "print(\"Decision Tree Classifier Validation Accuracy\")\n",
    "print(\"Validation set:\", accuracy_score(target_valid, dtc_predictions_v))\n",
    "print(\"RandomForest Classifier Validation Accuracy\")\n",
    "print(\"Validation set:\", accuracy_score(target_valid, rfc_predictions_v))\n",
    "print(\"Logistic Regression Validation Accuracy\")\n",
    "print(\"Validation set:\", accuracy_score(target_valid, lr_predictions_v))"
   ]
  },
  {
   "cell_type": "markdown",
   "metadata": {},
   "source": [
    "### Tuning Hyperparameters V2"
   ]
  },
  {
   "cell_type": "code",
   "execution_count": 51,
   "metadata": {},
   "outputs": [
    {
     "name": "stdout",
     "output_type": "stream",
     "text": [
      "Tuning Hyperparameters: Version 2\n",
      "Decision Tree Classifier Accuracy: 0.9953319502074689\n",
      "Random Forest Classifier Accuracy: 0.966804979253112\n",
      "Logistic Regression Accuracy: 0.700207468879668\n",
      "\n",
      "Decision Tree Classifier Validation Accuracy\n",
      "Validation set: 0.7387247278382582\n",
      "RandomForest Classifier Validation Accuracy\n",
      "Validation set: 0.7978227060653188\n",
      "Logistic Regression Validation Accuracy\n",
      "Validation set: 0.7247278382581649\n"
     ]
    },
    {
     "name": "stderr",
     "output_type": "stream",
     "text": [
      "/opt/conda/lib/python3.7/site-packages/sklearn/ensemble/forest.py:245: FutureWarning: The default value of n_estimators will change from 10 in version 0.20 to 100 in 0.22.\n",
      "  \"10 in version 0.20 to 100 in 0.22.\", FutureWarning)\n"
     ]
    }
   ],
   "source": [
    "dtc = DecisionTreeClassifier(random_state=12345, max_depth=25, criterion='entropy')\n",
    "dtc.fit(features_train, target_train)\n",
    "dtc_predictions2 = dtc.predict(features_train)\n",
    "\n",
    "rfc = RandomForestClassifier(max_depth=20, random_state=12345, min_samples_split = 3, min_samples_leaf = 1)\n",
    "rfc.fit(features_train, target_train)\n",
    "rfc_predictions2 = rfc.predict(features_train)\n",
    "\n",
    "lr = LogisticRegression(random_state=42, solver='liblinear')\n",
    "lr.fit(features_train, target_train)\n",
    "lr_predictions2 = lr.predict(features_train)\n",
    "\n",
    "print(\"Tuning Hyperparameters: Version 2\")\n",
    "print(\"Decision Tree Classifier Accuracy:\", accuracy_score(target_train, dtc_predictions2))\n",
    "print(\"Random Forest Classifier Accuracy:\", accuracy_score(target_train, rfc_predictions2))\n",
    "print(\"Logistic Regression Accuracy:\", accuracy_score(target_train, lr_predictions2))\n",
    "print(\"\")\n",
    "dtc_predictions_v2 = dtc.predict(features_valid)\n",
    "rfc_predictions_v2 = rfc.predict(features_valid)\n",
    "lr_predictions_v2 = lr.predict(features_valid)\n",
    "print(\"Decision Tree Classifier Validation Accuracy\")\n",
    "print(\"Validation set:\", accuracy_score(target_valid, dtc_predictions_v2))\n",
    "print(\"RandomForest Classifier Validation Accuracy\")\n",
    "print(\"Validation set:\", accuracy_score(target_valid, rfc_predictions_v2))\n",
    "print(\"Logistic Regression Validation Accuracy\")\n",
    "print(\"Validation set:\", accuracy_score(target_valid, lr_predictions_v2))"
   ]
  },
  {
   "cell_type": "markdown",
   "metadata": {},
   "source": [
    "### Tuning Hyperparameters V3"
   ]
  },
  {
   "cell_type": "code",
   "execution_count": 53,
   "metadata": {},
   "outputs": [
    {
     "name": "stdout",
     "output_type": "stream",
     "text": [
      "Tuning Hyperparameters: Version 3\n",
      "Decision Tree Classifier Accuracy: 0.9610995850622407\n",
      "Random Forest Classifier Accuracy: 0.8827800829875518\n",
      "Logistic Regression Accuracy: 0.700207468879668\n",
      "\n",
      "Decision Tree Classifier Validation Accuracy\n",
      "Validation set: 0.7511664074650077\n",
      "RandomForest Classifier Vaildation Accuracy\n",
      "Validation set: 0.8087091757387247\n",
      "Logistic Regression Validation Accuracy\n",
      "Validation set: 0.7247278382581649\n"
     ]
    },
    {
     "name": "stderr",
     "output_type": "stream",
     "text": [
      "/opt/conda/lib/python3.7/site-packages/sklearn/ensemble/forest.py:245: FutureWarning: The default value of n_estimators will change from 10 in version 0.20 to 100 in 0.22.\n",
      "  \"10 in version 0.20 to 100 in 0.22.\", FutureWarning)\n"
     ]
    }
   ],
   "source": [
    "dtc = DecisionTreeClassifier(random_state=0, max_depth=17, criterion='gini')\n",
    "dtc.fit(features_train, target_train)\n",
    "dtc_predictions3 = dtc.predict(features_train)\n",
    "\n",
    "rfc = RandomForestClassifier(max_depth=10, random_state=40, min_samples_split = 3, min_samples_leaf = 1)\n",
    "rfc.fit(features_train, target_train)\n",
    "rfc_predictions3 = rfc.predict(features_train)\n",
    "\n",
    "lr = LogisticRegression(random_state=12345, solver='liblinear')\n",
    "lr.fit(features_train, target_train)\n",
    "lr_predictions3 = lr.predict(features_train)\n",
    "\n",
    "print(\"Tuning Hyperparameters: Version 3\")\n",
    "print(\"Decision Tree Classifier Accuracy:\", accuracy_score(target_train, dtc_predictions3))\n",
    "print(\"Random Forest Classifier Accuracy:\", accuracy_score(target_train, rfc_predictions3))\n",
    "print(\"Logistic Regression Accuracy:\", accuracy_score(target_train, lr_predictions3))\n",
    "print(\"\")\n",
    "dtc_predictions_v3 = dtc.predict(features_valid)\n",
    "rfc_predictions_v3 = rfc.predict(features_valid)\n",
    "lr_predictions_v3 = lr.predict(features_valid)\n",
    "print(\"Decision Tree Classifier Validation Accuracy\")\n",
    "print(\"Validation set:\", accuracy_score(target_valid, dtc_predictions_v3))\n",
    "print(\"RandomForest Classifier Vaildation Accuracy\")\n",
    "print(\"Validation set:\", accuracy_score(target_valid, rfc_predictions_v3))\n",
    "print(\"Logistic Regression Validation Accuracy\")\n",
    "print(\"Validation set:\", accuracy_score(target_valid, lr_predictions_v3))"
   ]
  },
  {
   "cell_type": "markdown",
   "metadata": {},
   "source": [
    "### Conclusion"
   ]
  },
  {
   "cell_type": "markdown",
   "metadata": {},
   "source": [
    "> The RandomForest classifier from V2 will give us the highest accuracy! This isn't surprising as RandomForest is known for it's high accuracy. While we could have chosen the Decision Tree Classifier because it had a higher test accuracy, it performed lower on the validation set. Let's move on and test our model."
   ]
  },
  {
   "cell_type": "markdown",
   "metadata": {},
   "source": [
    "## 4. Checking the quality of the model"
   ]
  },
  {
   "cell_type": "code",
   "execution_count": 58,
   "metadata": {},
   "outputs": [
    {
     "name": "stdout",
     "output_type": "stream",
     "text": [
      "RandomForest Classifier Accuracy\n",
      "Test set: 0.7838258164852255\n",
      "\n",
      "[1 1 1 0 1 0 0 0 0 1 0 0 0 0 0 0 0 0 0 1 1 0 0 0 0 0 0 0 0 1 0 0 1 0 0 0 0\n",
      " 0 1 1 0 1 0 0 1 0 0 0 0 0 0 0 0 0 0 0 0 0 1 1 0 0 1 0 0 0 0 1 0 0 0 1 0 0\n",
      " 0 0 0 0 1 0 0 0 0 0 0 0 0 0 1 1 0 0 1 1 1 0 0 0 0 0 0 0 0 0 1 1 0 1 1 0 0\n",
      " 0 1 0 0 0 1 0 1 0 1 0 0 0 0 0 0 0 0 0 0 0 0 1 0 1 1 1 0 0 1 0 1 0 0 0 1 0\n",
      " 0 1 0 1 0 0 0 0 0 0 0 0 0 1 1 0 0 1 0 0 0 0 1 0 0 1 0 0 0 0 0 0 0 0 0 0 1\n",
      " 0 0 0 0 0 0 0 0 0 0 0 0 0 0 0 0 0 1 0 1 0 0 1 0 0 0 0 0 0 0 1 1 0 0 0 1 1\n",
      " 0 0 0 0 0 0 0 0 0 1 0 0 1 0 0 1 0 0 0 0 0 0 1 0 0 0 1 1 1 1 0 1 0 0 0 0 1\n",
      " 1 0 0 1 0 0 1 0 0 0 1 0 0 0 0 0 0 0 1 1 0 0 0 1 0 1 0 1 0 1 0 0 0 0 1 1 0\n",
      " 1 0 0 0 0 0 0 0 0 0 1 1 0 0 1 0 0 1 0 0 0 0 0 1 0 0 0 0 0 1 0 0 0 0 0 0 0\n",
      " 1 0 0 0 1 0 0 0 1 1 0 0 0 0 0 0 0 0 1 0 0 1 1 1 0 0 0 1 0 0 0 0 1 0 0 0 0\n",
      " 0 0 0 0 0 1 0 0 0 0 1 0 0 1 1 0 1 0 0 1 0 0 0 0 1 0 0 0 0 0 0 0 0 0 1 0 0\n",
      " 1 0 0 0 0 1 0 0 0 0 0 0 1 0 1 0 0 0 0 0 0 0 0 0 0 0 0 0 1 1 0 1 1 0 0 0 0\n",
      " 1 0 0 0 0 1 0 0 0 0 0 1 1 1 0 0 0 0 0 0 0 0 0 0 0 1 0 0 0 1 0 0 0 0 0 1 0\n",
      " 0 1 0 1 0 0 0 0 0 1 1 0 1 0 0 0 1 0 0 0 0 0 1 0 0 0 0 0 1 0 0 1 0 1 0 0 1\n",
      " 0 0 0 0 1 0 0 0 0 0 0 0 0 0 0 0 0 0 1 0 1 1 1 1 0 1 0 0 0 0 0 0 0 0 0 0 0\n",
      " 0 0 0 0 0 0 1 0 0 0 0 0 1 0 1 0 0 1 1 1 0 0 0 0 0 0 0 0 1 0 0 1 1 0 1 0 0\n",
      " 1 0 0 1 0 0 0 0 0 0 0 0 1 0 0 0 0 0 0 0 1 1 0 0 0 0 0 0 1 0 0 1 0 0 0 0 1\n",
      " 0 1 0 1 1 0 1 0 0 0 0 1 0 0]\n"
     ]
    }
   ],
   "source": [
    "rfc_predictionsv2 = rfc.predict(features_test)\n",
    "print(\"RandomForest Classifier Accuracy\")\n",
    "print(\"Test set:\", accuracy_score(target_test, rfc_predictionsv2))\n",
    "print(\"\")\n",
    "print(rfc_predictionsv2)"
   ]
  },
  {
   "cell_type": "markdown",
   "metadata": {},
   "source": [
    "### Conclusion"
   ]
  },
  {
   "cell_type": "markdown",
   "metadata": {},
   "source": [
    "> After testing our model, we see that the test set has a 78% accuracy!"
   ]
  },
  {
   "cell_type": "markdown",
   "metadata": {},
   "source": [
    "## Sanity Check"
   ]
  },
  {
   "cell_type": "markdown",
   "metadata": {},
   "source": [
    "> Will our validation set have the same accuracy?"
   ]
  },
  {
   "cell_type": "code",
   "execution_count": 59,
   "metadata": {},
   "outputs": [
    {
     "name": "stdout",
     "output_type": "stream",
     "text": [
      "zero:  490\n",
      "one:  154\n",
      "0.7620528771384136\n"
     ]
    }
   ],
   "source": [
    "from sklearn.dummy import DummyClassifier\n",
    "dummy_clf = DummyClassifier(strategy=\"most_frequent\")\n",
    "dummy_clf.fit(features_test, target_test)\n",
    "DummyClassifier(strategy='most_frequent')\n",
    "dummy_clf.predict(features_test)\n",
    "dummy_clf.score(features_test, target_test)\n",
    "\n",
    "zero = 0\n",
    "one = 1\n",
    "for i in rfc_predictions:\n",
    "    if i == 0:\n",
    "        zero+=1\n",
    "    if i == 1:\n",
    "        one+=1\n",
    "\n",
    "print(\"zero: \",zero)\n",
    "print(\"one: \", one)\n",
    "print(zero/len(rfc_predictionsv2))"
   ]
  },
  {
   "cell_type": "markdown",
   "metadata": {},
   "source": [
    "> Not as accurate as the test set, but is well above the threshold for accuracy."
   ]
  },
  {
   "cell_type": "markdown",
   "metadata": {},
   "source": [
    "## 5. Overall Conclusion"
   ]
  },
  {
   "cell_type": "markdown",
   "metadata": {},
   "source": [
    "> We trained our training set using the RandomForest Classifier because it would give us a high accuracy (it did: 98%), and tested our model on the testing set which is what really mattered. The testing set resulted in an 78% accuracy which satisfies the threshold. We then moved on to sanity checking our model. This resulted in a lower but acceptable accuracy not too far from our testing set accuracy. "
   ]
  }
 ],
 "metadata": {
  "kernelspec": {
   "display_name": "Python 3",
   "language": "python",
   "name": "python3"
  },
  "language_info": {
   "codemirror_mode": {
    "name": "ipython",
    "version": 3
   },
   "file_extension": ".py",
   "mimetype": "text/x-python",
   "name": "python",
   "nbconvert_exporter": "python",
   "pygments_lexer": "ipython3",
   "version": "3.7.8"
  },
  "toc": {
   "base_numbering": 1,
   "nav_menu": {},
   "number_sections": true,
   "sideBar": true,
   "skip_h1_title": true,
   "title_cell": "Table of Contents",
   "title_sidebar": "Contents",
   "toc_cell": false,
   "toc_position": {},
   "toc_section_display": true,
   "toc_window_display": false
  }
 },
 "nbformat": 4,
 "nbformat_minor": 2
}
